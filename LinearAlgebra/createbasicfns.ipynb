{
 "cells": [
  {
   "cell_type": "code",
   "execution_count": 1,
   "id": "f977e7e4-d6c7-4ef4-887c-4094d8d7f89a",
   "metadata": {},
   "outputs": [],
   "source": [
    "import numpy as np"
   ]
  },
  {
   "cell_type": "code",
   "execution_count": 15,
   "id": "e24a0fde-dfbb-4ac3-9427-bdc767df4af3",
   "metadata": {},
   "outputs": [],
   "source": [
    "def multiplyvectors(v1,v2):\n",
    "    if not (v1.ndim==v2.ndim==1) or not (v1.shape[0]==v2.shape[0]):\n",
    "        return \"can't do it\"\n",
    "    total=0\n",
    "    for i in range(v1.shape[0]):\n",
    "        total+=v1[i]*v2[i]\n",
    "    return total"
   ]
  },
  {
   "cell_type": "code",
   "execution_count": 19,
   "id": "5fb60174-3da0-4462-81ce-c680c24c6cc0",
   "metadata": {},
   "outputs": [
    {
     "data": {
      "text/plain": [
       "24"
      ]
     },
     "execution_count": 19,
     "metadata": {},
     "output_type": "execute_result"
    }
   ],
   "source": [
    "testv1=np.array([3,4,5])\n",
    "testv2=np.array([2,2,2])\n",
    "multiplyvectors(testv1,testv2)"
   ]
  },
  {
   "cell_type": "code",
   "execution_count": 21,
   "id": "1da9cef4-4d7b-4113-a9de-0f9fb33404dd",
   "metadata": {},
   "outputs": [],
   "source": [
    "def multiplymatrices(matrix1,matrix2):\n",
    "    if not (matrix1.ndim==matrix2.ndim==2) or not (matrix1.shape[1]==matrix2.shape[0]):\n",
    "        return \"can't do it\"\n",
    "    numrows=matrix1.shape[0]\n",
    "    numcolumns=matrix2.shape[1]\n",
    "    soln=np.zeros((numrows,numcolumns))\n",
    "    for i in range(numrows):\n",
    "        for j in range(numcolumns):\n",
    "            soln[i,j]=multiplyvectors(matrix1[i,:],matrix2[:,j])\n",
    "    return soln"
   ]
  },
  {
   "cell_type": "code",
   "execution_count": 23,
   "id": "f4fb84fc-38ef-4af7-a38e-221df46d59be",
   "metadata": {},
   "outputs": [],
   "source": [
    "testm1=np.array([[1,2,3],[4,5,6]])\n",
    "testm2=np.array([[7,8],[9,10],[11,12]])"
   ]
  },
  {
   "cell_type": "code",
   "execution_count": 25,
   "id": "4c98b6af-61fe-4812-bf30-145058f6c189",
   "metadata": {},
   "outputs": [
    {
     "data": {
      "text/plain": [
       "array([[ 58.,  64.],\n",
       "       [139., 154.]])"
      ]
     },
     "execution_count": 25,
     "metadata": {},
     "output_type": "execute_result"
    }
   ],
   "source": [
    "multiplymatrices(testm1,testm2)"
   ]
  },
  {
   "cell_type": "code",
   "execution_count": null,
   "id": "5e721c18-5349-4669-ac1c-e7e1d82d8a2d",
   "metadata": {},
   "outputs": [],
   "source": []
  }
 ],
 "metadata": {
  "kernelspec": {
   "display_name": "Python [conda env:base] *",
   "language": "python",
   "name": "conda-base-py"
  },
  "language_info": {
   "codemirror_mode": {
    "name": "ipython",
    "version": 3
   },
   "file_extension": ".py",
   "mimetype": "text/x-python",
   "name": "python",
   "nbconvert_exporter": "python",
   "pygments_lexer": "ipython3",
   "version": "3.12.7"
  }
 },
 "nbformat": 4,
 "nbformat_minor": 5
}
