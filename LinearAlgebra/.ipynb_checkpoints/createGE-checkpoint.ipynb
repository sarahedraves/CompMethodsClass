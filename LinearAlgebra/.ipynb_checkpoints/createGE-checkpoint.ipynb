{
 "cells": [
  {
   "cell_type": "code",
   "execution_count": 2,
   "id": "7f7aee32-a839-4722-ad94-4b2350452425",
   "metadata": {},
   "outputs": [],
   "source": [
    "import numpy as np"
   ]
  },
  {
   "cell_type": "code",
   "execution_count": 3,
   "id": "e61741fa-76dc-4df0-92a9-7ebb79c4216a",
   "metadata": {},
   "outputs": [],
   "source": [
    "testmatrix=np.array([[2,5,7],[1,1,1],[2,1,-1]])"
   ]
  },
  {
   "cell_type": "code",
   "execution_count": 4,
   "id": "4ca487b7-7e2e-455a-a9ec-4272767eb52a",
   "metadata": {},
   "outputs": [
    {
     "data": {
      "text/plain": [
       "(3, 3)"
      ]
     },
     "execution_count": 4,
     "metadata": {},
     "output_type": "execute_result"
    }
   ],
   "source": [
    "testmatrix.shape"
   ]
  },
  {
   "cell_type": "code",
   "execution_count": 5,
   "id": "1a03a95f-8cd4-445c-9460-ad52afeb1d6f",
   "metadata": {},
   "outputs": [],
   "source": [
    "testvector=np.array([52,9,0])"
   ]
  },
  {
   "cell_type": "code",
   "execution_count": 6,
   "id": "c0660b57-6e44-4e08-984b-244ea97d39fa",
   "metadata": {},
   "outputs": [],
   "source": [
    "def GE(matrix, vector):\n",
    "    numrows=matrix.shape[0]\n",
    "    matrix=matrix.astype(float)\n",
    "    vector=vector.astype(float)\n",
    "    for i in range(numrows):\n",
    "        matrix[i,:], vector[i] = matrix[i,:]/matrix[i,i], vector[i]/matrix[i,i]\n",
    "        for j in range(i+1, numrows):\n",
    "            matrix[j,:], vector[j] = matrix[j,:]-(matrix[j,i]*matrix[i,:]), vector[j]-(matrix[j,i]*vector[i])\n",
    "    return matrix, vector"
   ]
  },
  {
   "cell_type": "code",
   "execution_count": 7,
   "id": "509c27a8-e785-4fee-89c5-76a1c7e730f9",
   "metadata": {},
   "outputs": [],
   "source": [
    "testmatrix=np.array([[2,5,7],[1,1,1],[2,1,-1]])\n",
    "testvector=np.array([52,9,0])\n",
    "solnmatrix,solnvector=GE(testmatrix, testvector)"
   ]
  },
  {
   "cell_type": "code",
   "execution_count": 8,
   "id": "57f52fff-246b-443d-8f1b-8b9e70880347",
   "metadata": {},
   "outputs": [
    {
     "name": "stdout",
     "output_type": "stream",
     "text": [
      "[[ 1.          2.5         3.5       ]\n",
      " [-0.          1.          1.66666667]\n",
      " [-0.         -0.          1.        ]]\n",
      "[26.         11.33333333  5.        ]\n"
     ]
    }
   ],
   "source": [
    "print(solnmatrix)\n",
    "print(solnvector)"
   ]
  },
  {
   "cell_type": "code",
   "execution_count": 9,
   "id": "6fcb7567-7bcc-4eae-82cd-9e69aeb02485",
   "metadata": {},
   "outputs": [
    {
     "data": {
      "text/plain": [
       "array([2, 1, 0])"
      ]
     },
     "execution_count": 9,
     "metadata": {},
     "output_type": "execute_result"
    }
   ],
   "source": [
    "np.arange(0,3,1)[::-1]"
   ]
  },
  {
   "cell_type": "code",
   "execution_count": 10,
   "id": "765bb440-d917-4059-8688-306e1e13781c",
   "metadata": {},
   "outputs": [],
   "source": [
    "def BS(matrix, vector): #only apply to results of GE!!\n",
    "    numrows=matrix.shape[0]\n",
    "    solns=np.zeros(numrows)\n",
    "    for i in np.arange(numrows)[::-1]: #iterates backwards through the rows\n",
    "        rightsum=0\n",
    "        for j in range(i+1,numrows):\n",
    "            rightsum+=matrix[i,j]*solns[j]\n",
    "        solns[i]=vector[i]-rightsum\n",
    "    return solns"
   ]
  },
  {
   "cell_type": "code",
   "execution_count": 11,
   "id": "2b44d752-716a-41fd-ac57-c95b7a2a8263",
   "metadata": {},
   "outputs": [
    {
     "data": {
      "text/plain": [
       "array([1., 3., 5.])"
      ]
     },
     "execution_count": 11,
     "metadata": {},
     "output_type": "execute_result"
    }
   ],
   "source": [
    "testmatrix=np.array([[2,5,7],[1,1,1],[2,1,-1]])\n",
    "testvector=np.array([52,9,0])\n",
    "solnmatrix,solnvector=GE(testmatrix, testvector)\n",
    "BS(solnmatrix, solnvector)"
   ]
  },
  {
   "cell_type": "markdown",
   "id": "da0a4673-7107-4db3-804d-eb1233dce9b5",
   "metadata": {},
   "source": [
    "for zero on the diagonal handling, use a while loop where it keeps making swaps until it's good again, but also in a try catch statement so if it can't do it then it says the matrix is singular"
   ]
  },
  {
   "cell_type": "code",
   "execution_count": 13,
   "id": "6f73beb2-d979-4cdd-a0b0-33b99fe7ce94",
   "metadata": {},
   "outputs": [],
   "source": [
    "def GE_0s(matrix, vector):\n",
    "    numrows=matrix.shape[0]\n",
    "    matrix=matrix.astype(float)\n",
    "    vector=vector.astype(float)\n",
    "    for i in range(numrows):\n",
    "        k=i+1\n",
    "        while matrix[i,i]==0:\n",
    "            print('here')\n",
    "            #matrix[i,:],matrix[k,:]=matrix[k,:],matrix[i,:] doesn't work because of in place operations i think\n",
    "            matrix[[i,k]]=matrix[[k,i]] #this works\n",
    "            vector[[i,k]]=vector[[k,i]]\n",
    "            k+=1\n",
    "        matrix[i,:], vector[i] = matrix[i,:]/matrix[i,i], vector[i]/matrix[i,i]\n",
    "        for j in range(i+1, numrows):\n",
    "            matrix[j,:], vector[j] = matrix[j,:]-(matrix[j,i]*matrix[i,:]), vector[j]-(matrix[j,i]*vector[i])\n",
    "    return matrix, vector"
   ]
  },
  {
   "cell_type": "code",
   "execution_count": 14,
   "id": "8021bb0c-253f-462c-bc91-168044f78ecd",
   "metadata": {},
   "outputs": [
    {
     "name": "stdout",
     "output_type": "stream",
     "text": [
      "here\n"
     ]
    }
   ],
   "source": [
    "testm0s=np.array([[0,2,3],[4,5,6],[7,8,9]])\n",
    "testv0s=np.array([8,18,27])\n",
    "soln1,soln2=GE_0s(testm0s,testv0s)"
   ]
  },
  {
   "cell_type": "code",
   "execution_count": 15,
   "id": "72a261d6-4830-488b-99c3-e1397323a0fd",
   "metadata": {},
   "outputs": [
    {
     "data": {
      "text/plain": [
       "array([ 1., -2.,  4.])"
      ]
     },
     "execution_count": 15,
     "metadata": {},
     "output_type": "execute_result"
    }
   ],
   "source": [
    "BS(soln1, soln2)"
   ]
  },
  {
   "cell_type": "code",
   "execution_count": 16,
   "id": "6b929479-63a3-44c5-be14-af98279197bd",
   "metadata": {},
   "outputs": [
    {
     "name": "stdout",
     "output_type": "stream",
     "text": [
      "here\n"
     ]
    },
    {
     "data": {
      "text/plain": [
       "array([0.66666667, 0.16666667, 2.33333333])"
      ]
     },
     "execution_count": 16,
     "metadata": {},
     "output_type": "execute_result"
    }
   ],
   "source": [
    "testm0s=np.array([[1,2,3],[4,8,6],[7,8,9]]) #this will get a zero on the second row diagonal\n",
    "testv0s=np.array([8,18,27])\n",
    "soln1,soln2=GE_0s(testm0s,testv0s)\n",
    "BS(soln1, soln2)"
   ]
  },
  {
   "cell_type": "code",
   "execution_count": 17,
   "id": "2310870b-3c61-4887-b101-b90fd9c7aefd",
   "metadata": {},
   "outputs": [
    {
     "name": "stdout",
     "output_type": "stream",
     "text": [
      "here\n"
     ]
    },
    {
     "ename": "IndexError",
     "evalue": "index 3 is out of bounds for axis 0 with size 3",
     "output_type": "error",
     "traceback": [
      "\u001b[0;31m---------------------------------------------------------------------------\u001b[0m",
      "\u001b[0;31mIndexError\u001b[0m                                Traceback (most recent call last)",
      "Cell \u001b[0;32mIn[17], line 3\u001b[0m\n\u001b[1;32m      1\u001b[0m testm0s\u001b[38;5;241m=\u001b[39mnp\u001b[38;5;241m.\u001b[39marray([[\u001b[38;5;241m1\u001b[39m,\u001b[38;5;241m2\u001b[39m,\u001b[38;5;241m3\u001b[39m],[\u001b[38;5;241m4\u001b[39m,\u001b[38;5;241m5\u001b[39m,\u001b[38;5;241m6\u001b[39m],[\u001b[38;5;241m7\u001b[39m,\u001b[38;5;241m8\u001b[39m,\u001b[38;5;241m9\u001b[39m]]) \u001b[38;5;66;03m#this will get a zero on the last row but no solution exists\u001b[39;00m\n\u001b[1;32m      2\u001b[0m testv0s\u001b[38;5;241m=\u001b[39mnp\u001b[38;5;241m.\u001b[39marray([\u001b[38;5;241m8\u001b[39m,\u001b[38;5;241m18\u001b[39m,\u001b[38;5;241m27\u001b[39m])\n\u001b[0;32m----> 3\u001b[0m soln1,soln2\u001b[38;5;241m=\u001b[39mGE_0s(testm0s,testv0s)\n\u001b[1;32m      4\u001b[0m BS(soln1, soln2)\n",
      "Cell \u001b[0;32mIn[13], line 10\u001b[0m, in \u001b[0;36mGE_0s\u001b[0;34m(matrix, vector)\u001b[0m\n\u001b[1;32m      8\u001b[0m \u001b[38;5;28mprint\u001b[39m(\u001b[38;5;124m'\u001b[39m\u001b[38;5;124mhere\u001b[39m\u001b[38;5;124m'\u001b[39m)\n\u001b[1;32m      9\u001b[0m \u001b[38;5;66;03m#matrix[i,:],matrix[k,:]=matrix[k,:],matrix[i,:] doesn't work because of in place operations i think\u001b[39;00m\n\u001b[0;32m---> 10\u001b[0m matrix[[i,k]]\u001b[38;5;241m=\u001b[39mmatrix[[k,i]] \u001b[38;5;66;03m#this works\u001b[39;00m\n\u001b[1;32m     11\u001b[0m vector[[i,k]]\u001b[38;5;241m=\u001b[39mvector[[k,i]]\n\u001b[1;32m     12\u001b[0m k\u001b[38;5;241m+\u001b[39m\u001b[38;5;241m=\u001b[39m\u001b[38;5;241m1\u001b[39m\n",
      "\u001b[0;31mIndexError\u001b[0m: index 3 is out of bounds for axis 0 with size 3"
     ]
    }
   ],
   "source": [
    "testm0s=np.array([[1,2,3],[4,5,6],[7,8,9]]) #this will get a zero on the last row but no solution exists\n",
    "testv0s=np.array([8,18,27])\n",
    "soln1,soln2=GE_0s(testm0s,testv0s)\n",
    "BS(soln1, soln2)"
   ]
  },
  {
   "cell_type": "markdown",
   "id": "af902be6-1e3c-4946-b9c1-0a0ed37dc63c",
   "metadata": {},
   "source": [
    "should build in checks for if its a square matrix and the vector is the right length (so not over or under specified), the equations are consistent, and there is no linear dependence, because otherwise it should not do the gaussian elimination at all. but this solution should work on any solvable matrix (i think). would just checking if the determinant is zero work?"
   ]
  },
  {
   "cell_type": "code",
   "execution_count": null,
   "id": "9c35217b-4f81-4c5b-ae98-fe42fbcbb332",
   "metadata": {},
   "outputs": [],
   "source": []
  }
 ],
 "metadata": {
  "kernelspec": {
   "display_name": "Python [conda env:base] *",
   "language": "python",
   "name": "conda-base-py"
  },
  "language_info": {
   "codemirror_mode": {
    "name": "ipython",
    "version": 3
   },
   "file_extension": ".py",
   "mimetype": "text/x-python",
   "name": "python",
   "nbconvert_exporter": "python",
   "pygments_lexer": "ipython3",
   "version": "3.12.7"
  }
 },
 "nbformat": 4,
 "nbformat_minor": 5
}
