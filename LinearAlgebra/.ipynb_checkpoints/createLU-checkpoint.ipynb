{
 "cells": [
  {
   "cell_type": "code",
   "execution_count": 3,
   "id": "0017ff59-f4e5-40bb-bc78-c687d45baf34",
   "metadata": {},
   "outputs": [],
   "source": [
    "import numpy as np\n",
    "from linearalgebrafns import *"
   ]
  },
  {
   "cell_type": "code",
   "execution_count": 4,
   "id": "26e66173-3d4a-4290-874b-3477f82c8059",
   "metadata": {},
   "outputs": [],
   "source": [
    "testmatrix=np.array([[2,3,1],[4,7,3],[6,18,5]])"
   ]
  },
  {
   "cell_type": "code",
   "execution_count": 5,
   "id": "3877e9c8-f677-4b30-99e9-3a0411801830",
   "metadata": {},
   "outputs": [],
   "source": [
    "def LU(matrix):\n",
    "    numrows=matrix.shape[0]\n",
    "    U=matrix\n",
    "    L=np.identity(numrows)\n",
    "    for i in range(numrows):\n",
    "        Li=np.identity(numrows)\n",
    "        Li[i,i]=Li[i,i]/U[i,i]\n",
    "        L[i,i]=L[i,i]*U[i,i]\n",
    "        for j in range(i+1, numrows):\n",
    "            Li[j,i]=-U[j,i]/U[i,i]\n",
    "            L[j,i]=U[j,i]\n",
    "        U=multiplymatrices(Li,U)\n",
    "    return L,U"
   ]
  },
  {
   "cell_type": "code",
   "execution_count": 6,
   "id": "6c176648-3e6c-4563-b06d-9e6c788e3563",
   "metadata": {},
   "outputs": [
    {
     "name": "stdout",
     "output_type": "stream",
     "text": [
      "[[ 2.  0.  0.]\n",
      " [ 4.  1.  0.]\n",
      " [ 6.  9. -9.]]\n",
      "[[1.  1.5 0.5]\n",
      " [0.  1.  1. ]\n",
      " [0.  0.  1. ]]\n"
     ]
    }
   ],
   "source": [
    "testmatrix=np.array([[2,3,1],[4,7,3],[6,18,3]])\n",
    "L,U=LU(testmatrix)\n",
    "print(L)\n",
    "print(U)"
   ]
  },
  {
   "cell_type": "code",
   "execution_count": 7,
   "id": "ea6470cb-666c-4aff-93ce-d853c53b8037",
   "metadata": {},
   "outputs": [
    {
     "data": {
      "text/plain": [
       "array([[ 2.,  3.,  1.],\n",
       "       [ 4.,  7.,  3.],\n",
       "       [ 6., 18.,  3.]])"
      ]
     },
     "execution_count": 7,
     "metadata": {},
     "output_type": "execute_result"
    }
   ],
   "source": [
    "multiplymatrices(L,U)"
   ]
  },
  {
   "cell_type": "code",
   "execution_count": 44,
   "id": "0d1e7365-28c2-41a1-b2ef-fb312ace96ed",
   "metadata": {},
   "outputs": [],
   "source": [
    "def FS(matrix, vector): #only apply to lower triangular matrix\n",
    "    numrows=matrix.shape[0]\n",
    "    solns=np.zeros(numrows)\n",
    "    for i in np.arange(numrows): \n",
    "        rightsum=0\n",
    "        for j in range(0,i):\n",
    "            rightsum+=matrix[i,j]*solns[j]\n",
    "        solns[i]=(vector[i]-rightsum)/matrix[i,i]\n",
    "    return solns"
   ]
  },
  {
   "cell_type": "code",
   "execution_count": 36,
   "id": "68fbdf34-c354-47db-9763-71dbaabed4c4",
   "metadata": {},
   "outputs": [
    {
     "name": "stdout",
     "output_type": "stream",
     "text": [
      "0\n",
      "1 0\n",
      "0\n",
      "2.0\n",
      "2 0\n",
      "0\n",
      "2 1\n",
      "3.0\n",
      "3.0\n"
     ]
    }
   ],
   "source": [
    "testvector=np.array([1,2,6])\n",
    "y=FS(L,testvector)"
   ]
  },
  {
   "cell_type": "code",
   "execution_count": 38,
   "id": "58fdf813-3819-46c8-9f76-9e91de56d69b",
   "metadata": {},
   "outputs": [
    {
     "data": {
      "text/plain": [
       "array([ 0.5       ,  0.        , -0.33333333])"
      ]
     },
     "execution_count": 38,
     "metadata": {},
     "output_type": "execute_result"
    }
   ],
   "source": [
    "y"
   ]
  },
  {
   "cell_type": "code",
   "execution_count": 40,
   "id": "8542033d-c428-4b1c-8224-b8305eda8ec3",
   "metadata": {},
   "outputs": [],
   "source": [
    "x=BS(U,y)"
   ]
  },
  {
   "cell_type": "code",
   "execution_count": 42,
   "id": "8b67a9da-72d1-44ea-80fc-7a00cb0aeaf8",
   "metadata": {},
   "outputs": [
    {
     "data": {
      "text/plain": [
       "array([ 0.16666667,  0.33333333, -0.33333333])"
      ]
     },
     "execution_count": 42,
     "metadata": {},
     "output_type": "execute_result"
    }
   ],
   "source": [
    "x"
   ]
  },
  {
   "cell_type": "code",
   "execution_count": 47,
   "id": "662e8764-0a45-4821-a26c-635cc15472a0",
   "metadata": {},
   "outputs": [],
   "source": [
    "def solve_LU(L,U,v):\n",
    "    y=FS(L,v)\n",
    "    x=BS(U,y)\n",
    "    return x"
   ]
  },
  {
   "cell_type": "code",
   "execution_count": 49,
   "id": "91992110-21c4-43e7-8085-46831e3cbb96",
   "metadata": {},
   "outputs": [
    {
     "data": {
      "text/plain": [
       "array([ 0.16666667,  0.33333333, -0.33333333])"
      ]
     },
     "execution_count": 49,
     "metadata": {},
     "output_type": "execute_result"
    }
   ],
   "source": [
    "solve_LU(L,U,testvector)"
   ]
  },
  {
   "cell_type": "code",
   "execution_count": 51,
   "id": "76bd4bf7-9fbb-46d7-b8f3-abe61d370927",
   "metadata": {},
   "outputs": [
    {
     "data": {
      "text/plain": [
       "array([ 0.5,  0. , -0. ])"
      ]
     },
     "execution_count": 51,
     "metadata": {},
     "output_type": "execute_result"
    }
   ],
   "source": [
    "solve_LU(L,U,np.array([1,2,3]))"
   ]
  },
  {
   "cell_type": "code",
   "execution_count": 53,
   "id": "bba6e23c-b771-4601-9783-73b01c8c7231",
   "metadata": {},
   "outputs": [
    {
     "data": {
      "text/plain": [
       "array([ 11.5,  -2. , -10. ])"
      ]
     },
     "execution_count": 53,
     "metadata": {},
     "output_type": "execute_result"
    }
   ],
   "source": [
    "solve_LU(L,U,np.array([7,2,3]))"
   ]
  },
  {
   "cell_type": "code",
   "execution_count": null,
   "id": "1fa6e48b-bc1c-4eea-bbae-e7fa8a5d3381",
   "metadata": {},
   "outputs": [],
   "source": []
  }
 ],
 "metadata": {
  "kernelspec": {
   "display_name": "Python [conda env:base] *",
   "language": "python",
   "name": "conda-base-py"
  },
  "language_info": {
   "codemirror_mode": {
    "name": "ipython",
    "version": 3
   },
   "file_extension": ".py",
   "mimetype": "text/x-python",
   "name": "python",
   "nbconvert_exporter": "python",
   "pygments_lexer": "ipython3",
   "version": "3.12.7"
  }
 },
 "nbformat": 4,
 "nbformat_minor": 5
}
