{
 "cells": [
  {
   "cell_type": "code",
   "execution_count": 1,
   "id": "73a96675-6418-439d-9fa9-f757a2365c89",
   "metadata": {},
   "outputs": [],
   "source": [
    "import numpy as np"
   ]
  },
  {
   "cell_type": "code",
   "execution_count": 2,
   "id": "d05d80f9-d56d-4c14-94c1-ee1024253dae",
   "metadata": {},
   "outputs": [],
   "source": [
    "numpoints=100"
   ]
  },
  {
   "cell_type": "code",
   "execution_count": 3,
   "id": "0a6318ac-0317-4fcb-9467-7aea26e47f7e",
   "metadata": {},
   "outputs": [],
   "source": [
    "xs=np.linspace(0,1,numpoints)"
   ]
  },
  {
   "cell_type": "code",
   "execution_count": 4,
   "id": "64a89f5d-1767-45a9-95da-da9f696c765c",
   "metadata": {},
   "outputs": [],
   "source": [
    "deltax=xs[1]-xs[0]"
   ]
  },
  {
   "cell_type": "code",
   "execution_count": 5,
   "id": "f50b09d9-99d7-4e83-8990-98ec0ea78475",
   "metadata": {},
   "outputs": [],
   "source": [
    "condlist=[xs<1/3, xs<2/3, xs<1]\n",
    "choicelist=[0,1,0]\n",
    "a0=np.select(condlist,choicelist)"
   ]
  },
  {
   "cell_type": "code",
   "execution_count": 48,
   "id": "77a1a081-ff2f-4fc7-85d6-11720022d597",
   "metadata": {},
   "outputs": [],
   "source": [
    "u=1\n",
    "C=0.7\n",
    "deltat=C*deltax/u"
   ]
  },
  {
   "cell_type": "code",
   "execution_count": 7,
   "id": "819256c7-380e-46a6-bfdd-7af93e454e48",
   "metadata": {},
   "outputs": [],
   "source": [
    "a0padded=np.pad(a0,1,mode='wrap')"
   ]
  },
  {
   "cell_type": "code",
   "execution_count": 8,
   "id": "c0a4273e-6ed6-429c-8f47-95e5757e484f",
   "metadata": {},
   "outputs": [],
   "source": [
    "a1=np.zeros(numpoints)\n",
    "for i in range(numpoints):\n",
    "    a1[i]=-u*deltat*(a0padded[i+1]-a0padded[i])/deltax + a0padded[i+1] #indices are shifted by 1 for padded array"
   ]
  },
  {
   "cell_type": "code",
   "execution_count": 50,
   "id": "f14f87ee-6afa-477b-b16a-e00e84e0dddf",
   "metadata": {},
   "outputs": [],
   "source": [
    "period=1/u\n",
    "periods=2\n",
    "totaltime=period*periods\n",
    "numsteps=int(np.ceil(totaltime/deltat))"
   ]
  },
  {
   "cell_type": "code",
   "execution_count": 52,
   "id": "04bedf75-7a70-4804-8e40-1b87ef7b9e9d",
   "metadata": {},
   "outputs": [],
   "source": [
    "an=a0\n",
    "for n in range(numsteps):\n",
    "    apadded=np.pad(an,1,mode='wrap')\n",
    "    an1=np.zeros(numpoints)\n",
    "    for i in range(numpoints):\n",
    "        an1[i]=-u*deltat*(apadded[i+1]-apadded[i])/deltax + apadded[i+1]\n",
    "    an=an1"
   ]
  },
  {
   "cell_type": "code",
   "execution_count": 56,
   "id": "86ecb6c3-f591-40a4-b287-2dc44946735f",
   "metadata": {},
   "outputs": [
    {
     "data": {
      "text/plain": [
       "array([0.  , 0.  , 0.  , 0.  , 0.  , 0.  , 0.  , 0.  , 0.  , 0.  , 0.  ,\n",
       "       0.01, 0.01, 0.01, 0.02, 0.02, 0.03, 0.04, 0.05, 0.07, 0.09, 0.11,\n",
       "       0.13, 0.16, 0.2 , 0.23, 0.27, 0.32, 0.37, 0.41, 0.47, 0.52, 0.57,\n",
       "       0.62, 0.67, 0.71, 0.76, 0.8 , 0.83, 0.86, 0.89, 0.91, 0.93, 0.94,\n",
       "       0.95, 0.96, 0.97, 0.97, 0.97, 0.96, 0.95, 0.94, 0.93, 0.91, 0.89,\n",
       "       0.87, 0.84, 0.8 , 0.77, 0.73, 0.68, 0.63, 0.59, 0.53, 0.48, 0.43,\n",
       "       0.38, 0.33, 0.29, 0.24, 0.2 , 0.17, 0.14, 0.11, 0.09, 0.07, 0.05,\n",
       "       0.04, 0.03, 0.02, 0.02, 0.01, 0.01, 0.01, 0.  , 0.  , 0.  , 0.  ,\n",
       "       0.  , 0.  , 0.  , 0.  , 0.  , 0.  , 0.  , 0.  , 0.  , 0.  , 0.  ,\n",
       "       0.  ])"
      ]
     },
     "execution_count": 56,
     "metadata": {},
     "output_type": "execute_result"
    }
   ],
   "source": [
    "np.round(an,2)"
   ]
  },
  {
   "cell_type": "code",
   "execution_count": null,
   "id": "0613e290-ec0c-4796-a29c-5e90792e371c",
   "metadata": {},
   "outputs": [],
   "source": []
  }
 ],
 "metadata": {
  "kernelspec": {
   "display_name": "Python [conda env:base] *",
   "language": "python",
   "name": "conda-base-py"
  },
  "language_info": {
   "codemirror_mode": {
    "name": "ipython",
    "version": 3
   },
   "file_extension": ".py",
   "mimetype": "text/x-python",
   "name": "python",
   "nbconvert_exporter": "python",
   "pygments_lexer": "ipython3",
   "version": "3.12.7"
  }
 },
 "nbformat": 4,
 "nbformat_minor": 5
}
