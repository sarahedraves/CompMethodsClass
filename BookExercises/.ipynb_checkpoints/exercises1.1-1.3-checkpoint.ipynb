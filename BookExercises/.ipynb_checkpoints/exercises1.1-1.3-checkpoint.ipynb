{
 "cells": [
  {
   "cell_type": "code",
   "execution_count": 2,
   "id": "03173cf3-84ef-4024-995e-6e0903893189",
   "metadata": {},
   "outputs": [],
   "source": [
    "#exercise 1.1\n",
    "x=0.1"
   ]
  },
  {
   "cell_type": "code",
   "execution_count": 3,
   "id": "5c16115d-4dbb-4ef7-826e-5f24969ffc3a",
   "metadata": {},
   "outputs": [
    {
     "name": "stdout",
     "output_type": "stream",
     "text": [
      "0.1\n"
     ]
    }
   ],
   "source": [
    "print(x)"
   ]
  },
  {
   "cell_type": "code",
   "execution_count": 4,
   "id": "5835c731-f12d-43c9-a1eb-639e39399318",
   "metadata": {},
   "outputs": [],
   "source": [
    "format_x=f\"{x:.{25}g}\""
   ]
  },
  {
   "cell_type": "code",
   "execution_count": 5,
   "id": "3adce36b-9398-4629-ace0-6774f6f52871",
   "metadata": {},
   "outputs": [
    {
     "name": "stdout",
     "output_type": "stream",
     "text": [
      "0.1000000000000000055511151\n"
     ]
    }
   ],
   "source": [
    "print(format_x)"
   ]
  },
  {
   "cell_type": "code",
   "execution_count": 6,
   "id": "6d809180-4336-4931-be4c-6861aa59b86a",
   "metadata": {},
   "outputs": [
    {
     "name": "stdout",
     "output_type": "stream",
     "text": [
      "1\n",
      "0.5\n",
      "0.25\n",
      "0.125\n",
      "0.0625\n",
      "0.03125\n",
      "0.015625\n",
      "0.0078125\n",
      "0.00390625\n",
      "0.001953125\n",
      "0.0009765625\n",
      "0.00048828125\n",
      "0.000244140625\n",
      "0.0001220703125\n",
      "6.103515625e-05\n",
      "3.0517578125e-05\n",
      "1.52587890625e-05\n",
      "7.62939453125e-06\n",
      "3.814697265625e-06\n",
      "1.9073486328125e-06\n",
      "9.5367431640625e-07\n",
      "4.76837158203125e-07\n",
      "2.384185791015625e-07\n",
      "1.1920928955078125e-07\n",
      "5.960464477539063e-08\n",
      "2.9802322387695312e-08\n",
      "1.4901161193847656e-08\n",
      "7.450580596923828e-09\n",
      "3.725290298461914e-09\n",
      "1.862645149230957e-09\n",
      "9.313225746154785e-10\n",
      "4.656612873077393e-10\n",
      "2.3283064365386963e-10\n",
      "1.1641532182693481e-10\n",
      "5.820766091346741e-11\n",
      "2.9103830456733704e-11\n",
      "1.4551915228366852e-11\n",
      "7.275957614183426e-12\n",
      "3.637978807091713e-12\n",
      "1.8189894035458565e-12\n",
      "9.094947017729282e-13\n",
      "4.547473508864641e-13\n",
      "2.2737367544323206e-13\n",
      "1.1368683772161603e-13\n",
      "5.684341886080802e-14\n",
      "2.842170943040401e-14\n",
      "1.4210854715202004e-14\n",
      "7.105427357601002e-15\n",
      "3.552713678800501e-15\n",
      "1.7763568394002505e-15\n",
      "8.881784197001252e-16\n",
      "4.440892098500626e-16\n",
      "2.220446049250313e-16\n",
      "1.1102230246251565e-16\n"
     ]
    }
   ],
   "source": [
    "#exercise 1.2\n",
    "ep=1\n",
    "while (1+ep!=1):\n",
    "    print(ep)\n",
    "    ep=ep/2\n",
    "print(ep)"
   ]
  },
  {
   "cell_type": "code",
   "execution_count": 7,
   "id": "fcce25ce-ad1b-46de-9cf2-5d71e80afe0b",
   "metadata": {},
   "outputs": [
    {
     "name": "stdout",
     "output_type": "stream",
     "text": [
      "[0.   0.05 0.1  0.15 0.2  0.25 0.3  0.35 0.4  0.45 0.5  0.55 0.6  0.65\n",
      " 0.7  0.75 0.8  0.85 0.9  0.95 1.  ]\n"
     ]
    }
   ],
   "source": [
    "#exercise 1.3\n",
    "import numpy as np\n",
    "x=np.linspace(0,1,21)\n",
    "print(x)"
   ]
  },
  {
   "cell_type": "code",
   "execution_count": 8,
   "id": "4b459430-c00a-4a67-8a2e-e47fb6fbe8e0",
   "metadata": {},
   "outputs": [
    {
     "name": "stdout",
     "output_type": "stream",
     "text": [
      "[0.00000000e+00 2.60401166e-09 8.33134948e-08 6.32473599e-07\n",
      " 2.66412839e-06 8.12592119e-06 2.02066613e-05 4.36407888e-05\n",
      " 8.50089753e-05 1.53034111e-04 2.58871938e-04 4.16395597e-04\n",
      " 6.42473395e-04 9.57239069e-04 1.38435390e-03 1.95126002e-03\n",
      " 2.68942423e-03 3.63457181e-03 4.82690963e-03 6.31133812e-03\n",
      " 8.13765147e-03]\n"
     ]
    }
   ],
   "source": [
    "ep=np.sin(x)-(x-(np.power(x,3)/6))\n",
    "print(ep)"
   ]
  },
  {
   "cell_type": "code",
   "execution_count": 9,
   "id": "390c69c4-58df-48a2-8177-236861755d19",
   "metadata": {},
   "outputs": [
    {
     "name": "stdout",
     "output_type": "stream",
     "text": [
      "1.0 0\n",
      "0.5 1\n",
      "0.25 2\n",
      "0.125 3\n",
      "0.0625 4\n",
      "0.03125 5\n",
      "0.015625 6\n",
      "0.0078125 7\n",
      "0.00390625 8\n",
      "0.001953125 9\n",
      "0.0009765625 10\n",
      "0.00048828125 11\n",
      "0.000244140625 12\n",
      "0.0001220703125 13\n",
      "6.103515625e-05 14\n",
      "3.0517578125e-05 15\n",
      "1.52587890625e-05 16\n",
      "7.62939453125e-06 17\n",
      "3.814697265625e-06 18\n",
      "1.9073486328125e-06 19\n"
     ]
    }
   ],
   "source": [
    "x=np.zeros(20)\n",
    "for i in np.arange(0,x.shape[0],1):\n",
    "    if i==0:\n",
    "        x[i]=1\n",
    "    else:\n",
    "        x[i]=x[i-1]/2\n",
    "    print(x[i],i)"
   ]
  },
  {
   "cell_type": "code",
   "execution_count": 10,
   "id": "d87e4865-3204-44f4-a4f9-3d772b08462b",
   "metadata": {},
   "outputs": [
    {
     "name": "stdout",
     "output_type": "stream",
     "text": [
      "[8.13765147e-03 2.58871938e-04 8.12592119e-06 2.54218561e-07\n",
      " 7.94654686e-09 2.48346912e-10 7.76097589e-12 2.42531689e-13\n",
      " 7.57900687e-15 2.36789754e-16 7.37257477e-18 2.16840434e-19\n",
      " 0.00000000e+00 0.00000000e+00 0.00000000e+00 0.00000000e+00\n",
      " 0.00000000e+00 0.00000000e+00 0.00000000e+00 0.00000000e+00]\n"
     ]
    }
   ],
   "source": [
    "ep=np.sin(x)-(x-(np.power(x,3)/6))\n",
    "print(ep)"
   ]
  },
  {
   "cell_type": "code",
   "execution_count": 11,
   "id": "2075d04b-9108-44a9-b022-a4da2603b3ed",
   "metadata": {},
   "outputs": [],
   "source": [
    "import matplotlib.pyplot as plt"
   ]
  },
  {
   "cell_type": "code",
   "execution_count": 12,
   "id": "ee5187f1-9892-4561-8dd4-8641b60879fb",
   "metadata": {},
   "outputs": [
    {
     "data": {
      "text/plain": [
       "<matplotlib.collections.PathCollection at 0x14f0b3e30>"
      ]
     },
     "execution_count": 12,
     "metadata": {},
     "output_type": "execute_result"
    },
    {
     "data": {
      "image/png": "[encoded data removed]",
      "text/plain": [
       "<Figure size 640x480 with 1 Axes>"
      ]
     },
     "metadata": {},
     "output_type": "display_data"
    }
   ],
   "source": [
    "plt.scatter(x,ep)"
   ]
  },
  {
   "cell_type": "code",
   "execution_count": 13,
   "id": "6363f493-b4c0-4f99-9fe6-ba6a40a95e48",
   "metadata": {},
   "outputs": [
    {
     "name": "stderr",
     "output_type": "stream",
     "text": [
      "/var/folders/zd/14hqhh8n6v122yj77t47nyv40000gn/T/ipykernel_77108/855277103.py:3: RuntimeWarning: divide by zero encountered in scalar divide\n",
      "  factor[i]=ep[i]/ep[i+1]\n",
      "/var/folders/zd/14hqhh8n6v122yj77t47nyv40000gn/T/ipykernel_77108/855277103.py:3: RuntimeWarning: invalid value encountered in scalar divide\n",
      "  factor[i]=ep[i]/ep[i+1]\n"
     ]
    }
   ],
   "source": [
    "factor=np.zeros(19)\n",
    "for i in np.arange(0,factor.shape[0],1):\n",
    "    factor[i]=ep[i]/ep[i+1]"
   ]
  },
  {
   "cell_type": "code",
   "execution_count": 14,
   "id": "23cc8b74-0df8-4b04-b379-0ec052386a4c",
   "metadata": {},
   "outputs": [
    {
     "name": "stdout",
     "output_type": "stream",
     "text": [
      "[31.43504681 31.85754962 31.96431117 31.99107302 31.9977679  31.99944389\n",
      " 31.99984264 32.00045777 32.00732601 32.11764706 34.                 inf\n",
      "         nan         nan         nan         nan         nan         nan\n",
      "         nan]\n"
     ]
    }
   ],
   "source": [
    "print(factor)"
   ]
  },
  {
   "cell_type": "markdown",
   "id": "53e6bb18-4cc0-434e-9fbf-7618eefc2cf2",
   "metadata": {},
   "source": [
    "reduction in error is 2^5 as x cuts in half as expected"
   ]
  },
  {
   "cell_type": "code",
   "execution_count": null,
   "id": "718eec07-e895-46a3-942f-541c2566fbcf",
   "metadata": {},
   "outputs": [],
   "source": [
    "#exercises 1.4 and 1.5 are in notebook on 2/19/25 page"
   ]
  }
 ],
 "metadata": {
  "kernelspec": {
   "display_name": "Python [conda env:base] *",
   "language": "python",
   "name": "conda-base-py"
  },
  "language_info": {
   "codemirror_mode": {
    "name": "ipython",
    "version": 3
   },
   "file_extension": ".py",
   "mimetype": "text/x-python",
   "name": "python",
   "nbconvert_exporter": "python",
   "pygments_lexer": "ipython3",
   "version": "3.12.7"
  }
 },
 "nbformat": 4,
 "nbformat_minor": 5
}
