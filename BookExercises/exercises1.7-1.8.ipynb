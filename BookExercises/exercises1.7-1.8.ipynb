{
 "cells": [
  {
   "cell_type": "code",
   "execution_count": 1,
   "id": "f17c7524-122a-44b2-8787-9bea570a35a5",
   "metadata": {},
   "outputs": [],
   "source": [
    "#exercise 1.7"
   ]
  },
  {
   "cell_type": "code",
   "execution_count": 2,
   "id": "647cd2ad-de17-4714-94e7-b02b9c1082d9",
   "metadata": {},
   "outputs": [],
   "source": [
    "def f(x):\n",
    "    return x**2"
   ]
  },
  {
   "cell_type": "code",
   "execution_count": 3,
   "id": "b27cb7d9-e1f6-43b2-8448-fb26b0c8f1b4",
   "metadata": {},
   "outputs": [],
   "source": [
    "def fprime(x):\n",
    "    return 2*x"
   ]
  },
  {
   "cell_type": "code",
   "execution_count": 4,
   "id": "dd20b721-708c-4eda-9991-c4c031de61ab",
   "metadata": {},
   "outputs": [],
   "source": [
    "def rootfinder(f, fprime, x0, tol):\n",
    "    deltax=-f(x0)/fprime(x0)\n",
    "    while abs(deltax)>=tol:\n",
    "        x0=x0+deltax\n",
    "        deltax=-f(x0)/fprime(x0)\n",
    "    return x0+deltax"
   ]
  },
  {
   "cell_type": "code",
   "execution_count": 5,
   "id": "162209b1-3132-40dc-ac57-84134c9c139c",
   "metadata": {},
   "outputs": [
    {
     "data": {
      "text/plain": [
       "5.960464477539063e-08"
      ]
     },
     "execution_count": 5,
     "metadata": {},
     "output_type": "execute_result"
    }
   ],
   "source": [
    "rootfinder(f,fprime, 1, .0000001)"
   ]
  },
  {
   "cell_type": "code",
   "execution_count": 6,
   "id": "47480cc8-3b97-476b-9e41-2649bc72b628",
   "metadata": {},
   "outputs": [],
   "source": [
    "#works for x^2 - found the only root of x=0 within tolerance\n",
    "#test x^3-2x^2+5x-1"
   ]
  },
  {
   "cell_type": "code",
   "execution_count": 7,
   "id": "8d6d31ac-faea-4dca-834e-ab481fd3f794",
   "metadata": {},
   "outputs": [],
   "source": [
    "def g(x):\n",
    "    return x**3-2*x**2+5*x-1"
   ]
  },
  {
   "cell_type": "code",
   "execution_count": 8,
   "id": "3cc24c05-a580-421f-8c00-d95325d5f71e",
   "metadata": {},
   "outputs": [],
   "source": [
    "def gprime(x):\n",
    "    return 5 - 4* x + 3 *x**2"
   ]
  },
  {
   "cell_type": "code",
   "execution_count": 9,
   "id": "46f84963-d080-439b-9f26-cb6a74ed4a67",
   "metadata": {},
   "outputs": [
    {
     "data": {
      "text/plain": [
       "0.21675657195125086"
      ]
     },
     "execution_count": 9,
     "metadata": {},
     "output_type": "execute_result"
    }
   ],
   "source": [
    "rootfinder(g,gprime,1,.0000001)"
   ]
  },
  {
   "cell_type": "code",
   "execution_count": 10,
   "id": "1146c4bc-2528-4c3c-8809-0aad6a86237f",
   "metadata": {},
   "outputs": [],
   "source": [
    "#found only real root ofx≈0.216756571951251 within tolerance (from wolfram)"
   ]
  },
  {
   "cell_type": "code",
   "execution_count": 11,
   "id": "a12dd835-faf1-4c52-9a66-781651ade4ee",
   "metadata": {},
   "outputs": [],
   "source": [
    "#test for x^4 + 6 x^3 - 3 x^2 - 56 x - 48 - this has three real roots one of which is a double root"
   ]
  },
  {
   "cell_type": "code",
   "execution_count": 12,
   "id": "5c174f30-7b98-4668-b5d7-38ecb6d31b18",
   "metadata": {},
   "outputs": [],
   "source": [
    "def h(x):\n",
    "    return x**4 + 6*x**3 - 3*x**2 - 56*x - 48"
   ]
  },
  {
   "cell_type": "code",
   "execution_count": 13,
   "id": "c8bebf80-a06f-4367-af5c-77a3ac612d6f",
   "metadata": {},
   "outputs": [],
   "source": [
    "def hprime(x):\n",
    "    return -56 - 6 *x + 18 *x**2 + 4 *x**3"
   ]
  },
  {
   "cell_type": "code",
   "execution_count": 14,
   "id": "2f0c3f09-aa7e-41b3-badf-ab5c4a6a6e2e",
   "metadata": {},
   "outputs": [
    {
     "data": {
      "text/plain": [
       "3.0"
      ]
     },
     "execution_count": 14,
     "metadata": {},
     "output_type": "execute_result"
    }
   ],
   "source": [
    "#start near root of x=3\n",
    "rootfinder(h,hprime,4,.0000001)"
   ]
  },
  {
   "cell_type": "code",
   "execution_count": 15,
   "id": "58f3a584-5945-46e9-8cfe-f434cd94d206",
   "metadata": {},
   "outputs": [
    {
     "data": {
      "text/plain": [
       "3.000000000000005"
      ]
     },
     "execution_count": 15,
     "metadata": {},
     "output_type": "execute_result"
    }
   ],
   "source": [
    "#same one from the left\n",
    "rootfinder(h,hprime,2,.0000001)"
   ]
  },
  {
   "cell_type": "code",
   "execution_count": 16,
   "id": "c30d5977-5759-42f6-847f-414adfd5d44a",
   "metadata": {},
   "outputs": [
    {
     "data": {
      "text/plain": [
       "-1.0"
      ]
     },
     "execution_count": 16,
     "metadata": {},
     "output_type": "execute_result"
    }
   ],
   "source": [
    "#halfway between roots of -1 and 3\n",
    "rootfinder(h,hprime,1,.0000001)"
   ]
  },
  {
   "cell_type": "code",
   "execution_count": 17,
   "id": "9cc7a181-ad1a-44f6-82d2-294eeac663cc",
   "metadata": {},
   "outputs": [
    {
     "name": "stdout",
     "output_type": "stream",
     "text": [
      "1 -1.0\n",
      "1.5 -4.000000068827656\n"
     ]
    }
   ],
   "source": [
    "#where does it flip over? (probably where sign of the derivative changes around x=1.6375)\n",
    "x0=1\n",
    "root=rootfinder(h,hprime,x0,.0000001)\n",
    "step=0.5\n",
    "while round(root)==-1:\n",
    "    print(x0,root)\n",
    "    x0=x0+step\n",
    "    root=rootfinder(h,hprime,x0,.0000001)\n",
    "    step=step/2\n",
    "print(x0,root)"
   ]
  },
  {
   "cell_type": "code",
   "execution_count": 18,
   "id": "656c590b-fb7c-4c8b-a8f5-a3d8350ee789",
   "metadata": {},
   "outputs": [],
   "source": [
    "#weird i would have though that it would just become the root that the initial guess was moving towards"
   ]
  },
  {
   "cell_type": "code",
   "execution_count": 19,
   "id": "545480f8-b168-45c5-bbf7-4c0548c66763",
   "metadata": {},
   "outputs": [],
   "source": [
    "import numpy as np"
   ]
  },
  {
   "cell_type": "code",
   "execution_count": 20,
   "id": "907e021d-8d47-49ff-8c1d-fee3e876d3be",
   "metadata": {},
   "outputs": [],
   "source": [
    "x0s=np.linspace(-5,5,1001)"
   ]
  },
  {
   "cell_type": "code",
   "execution_count": 21,
   "id": "db48bcbe-b50a-4315-bd9c-850d5c7f85ea",
   "metadata": {},
   "outputs": [
    {
     "data": {
      "text/plain": [
       "array([-5.  , -4.99, -4.98, ...,  4.98,  4.99,  5.  ])"
      ]
     },
     "execution_count": 21,
     "metadata": {},
     "output_type": "execute_result"
    }
   ],
   "source": [
    "x0s"
   ]
  },
  {
   "cell_type": "code",
   "execution_count": 22,
   "id": "23e048d9-d432-4415-a331-ad1a0b9ffa77",
   "metadata": {},
   "outputs": [],
   "source": [
    "roots=np.zeros(1001)"
   ]
  },
  {
   "cell_type": "code",
   "execution_count": 23,
   "id": "1e4c5194-6cff-433a-8fdb-ae852e58ea2b",
   "metadata": {},
   "outputs": [
    {
     "name": "stderr",
     "output_type": "stream",
     "text": [
      "/var/folders/zd/14hqhh8n6v122yj77t47nyv40000gn/T/ipykernel_12492/500309969.py:2: RuntimeWarning: invalid value encountered in scalar divide\n",
      "  deltax=-f(x0)/fprime(x0)\n"
     ]
    }
   ],
   "source": [
    "for i in np.arange(0,1001,1):\n",
    "    roots[i]=rootfinder(h,hprime,x0s[i],.0000001)"
   ]
  },
  {
   "cell_type": "code",
   "execution_count": 24,
   "id": "2bbbbf0e-000a-4d39-9e4c-6975d6b142fa",
   "metadata": {},
   "outputs": [],
   "source": [
    "import matplotlib.pyplot as plt"
   ]
  },
  {
   "cell_type": "code",
   "execution_count": 25,
   "id": "165e45b4-dc15-46a9-a366-f972a959a7c5",
   "metadata": {},
   "outputs": [
    {
     "data": {
      "text/plain": [
       "<matplotlib.collections.PathCollection at 0x10ebc3c80>"
      ]
     },
     "execution_count": 25,
     "metadata": {},
     "output_type": "execute_result"
    },
    {
     "data": {
      "image/png": "[encoded data removed]",
      "text/plain": [
       "<Figure size 640x480 with 1 Axes>"
      ]
     },
     "metadata": {},
     "output_type": "display_data"
    }
   ],
   "source": [
    "plt.scatter(x0s,roots)"
   ]
  },
  {
   "cell_type": "code",
   "execution_count": 26,
   "id": "5ad7430e-16ea-44c0-87ab-bcedf56f9ca4",
   "metadata": {},
   "outputs": [],
   "source": [
    "#exercise 1.8 - garbage version\n",
    "import math\n",
    "import scipy.integrate as intg"
   ]
  },
  {
   "cell_type": "code",
   "execution_count": 27,
   "id": "f0ebca16-b9f2-4161-a579-5a0a72022d0f",
   "metadata": {},
   "outputs": [],
   "source": [
    "#use units astronomical units, years, and solar masses\n",
    "a=1.000001 #semi major axis\n",
    "e=0.0167 #eccentricty\n",
    "GM=4*(math.pi)**2\n",
    "x0=0\n",
    "y0=a*(1-e)\n",
    "vx0=-((GM/a)*((1+e)/(1-e)))**0.5\n",
    "vy0=0"
   ]
  },
  {
   "cell_type": "code",
   "execution_count": 28,
   "id": "e572c8d4-3d32-4c49-a515-6b3e455e0822",
   "metadata": {},
   "outputs": [],
   "source": [
    "t_span=[0,1] #1 year/1 orbital period"
   ]
  },
  {
   "cell_type": "code",
   "execution_count": 29,
   "id": "7487e5a4-2c37-45ca-a3c3-12b29dfa965a",
   "metadata": {},
   "outputs": [
    {
     "data": {
      "text/plain": [
       "array([0.        , 0.98330098])"
      ]
     },
     "execution_count": 29,
     "metadata": {},
     "output_type": "execute_result"
    }
   ],
   "source": [
    "xvec=np.array([x0,y0])\n",
    "xvec"
   ]
  },
  {
   "cell_type": "code",
   "execution_count": 30,
   "id": "9f16ebcf-cba4-4927-b7a2-05d7999c316e",
   "metadata": {},
   "outputs": [
    {
     "data": {
      "text/plain": [
       "array([-6.38900228,  0.        ])"
      ]
     },
     "execution_count": 30,
     "metadata": {},
     "output_type": "execute_result"
    }
   ],
   "source": [
    "vvec=np.array([vx0,vy0])\n",
    "vvec"
   ]
  },
  {
   "cell_type": "code",
   "execution_count": 31,
   "id": "fbf750a8-e779-4204-9103-590822f5d3fb",
   "metadata": {},
   "outputs": [
    {
     "data": {
      "text/plain": [
       "array([[ 0.        ,  0.98330098],\n",
       "       [-6.38900228,  0.        ]])"
      ]
     },
     "execution_count": 31,
     "metadata": {},
     "output_type": "execute_result"
    }
   ],
   "source": [
    "ICs=np.array([xvec,vvec])\n",
    "ICs"
   ]
  },
  {
   "cell_type": "code",
   "execution_count": 32,
   "id": "92d1a9b6-9440-45d2-9ef8-4a8b14d0004e",
   "metadata": {},
   "outputs": [
    {
     "data": {
      "text/plain": [
       "array([[ 0.        , -6.38900228],\n",
       "       [ 0.98330098,  0.        ]])"
      ]
     },
     "execution_count": 32,
     "metadata": {},
     "output_type": "execute_result"
    }
   ],
   "source": [
    "ICT=ICs.T #from my understanding of the documentation, should have each diffeq as one column\n",
    "ICT"
   ]
  },
  {
   "cell_type": "code",
   "execution_count": 33,
   "id": "cab6e61e-73b6-4add-9a05-5d1380535c50",
   "metadata": {},
   "outputs": [
    {
     "data": {
      "text/plain": [
       "array([[ 0.        , -6.38900228],\n",
       "       [ 0.98330098,  0.        ]])"
      ]
     },
     "execution_count": 33,
     "metadata": {},
     "output_type": "execute_result"
    }
   ],
   "source": [
    "ICT.flatten().reshape(2,2)"
   ]
  },
  {
   "cell_type": "code",
   "execution_count": 34,
   "id": "568435ae-30da-41b9-ad71-a7041bd34388",
   "metadata": {},
   "outputs": [],
   "source": [
    "def myfunc(xandv):\n",
    "    xandv=xandv.reshape(2,2)\n",
    "    xdot=xandv[:,1]\n",
    "    r=(xandv[0,0]**2+xandv[1,0]**2)**0.5\n",
    "    vdot=(-GM/r**3)*xandv[:,0]\n",
    "    return np.array([xdot,vdot]).T"
   ]
  },
  {
   "cell_type": "code",
   "execution_count": 35,
   "id": "b5f2679d-398b-458a-a433-bf2436605add",
   "metadata": {},
   "outputs": [
    {
     "data": {
      "text/plain": [
       "array([[ -6.38900228,  -0.        ],\n",
       "       [  0.        , -40.83069664]])"
      ]
     },
     "execution_count": 35,
     "metadata": {},
     "output_type": "execute_result"
    }
   ],
   "source": [
    "myfunc(ICT.flatten())"
   ]
  },
  {
   "cell_type": "code",
   "execution_count": 36,
   "id": "a73f8cb9-4c2f-4170-8d49-7f0d2fcb5adc",
   "metadata": {},
   "outputs": [],
   "source": [
    "#intg.solve_ivp(myfunc, t_span, ICT, method='RK45', vectorized=True)"
   ]
  },
  {
   "cell_type": "code",
   "execution_count": 37,
   "id": "899e2b2c-f96a-4df2-a5df-8361c197da5e",
   "metadata": {},
   "outputs": [],
   "source": [
    "#exercise 1.8 - good version\n",
    "#start with a simple diffeq and just the Euler solver\n",
    "#do y'=ky - solution is y=y0*e^kx "
   ]
  },
  {
   "cell_type": "code",
   "execution_count": 38,
   "id": "285f8533-414c-4d03-80b2-5d0323a65576",
   "metadata": {},
   "outputs": [],
   "source": [
    "#already hand calculated the steps for these parameters in ODE class\n",
    "k=1\n",
    "y0=12\n",
    "t0=0\n",
    "deltat=0.25"
   ]
  },
  {
   "cell_type": "code",
   "execution_count": 73,
   "id": "fd775013-39e0-4d82-834c-c352e4ba5104",
   "metadata": {},
   "outputs": [],
   "source": [
    "def mydiffeq(t, y_i):\n",
    "    return k*y_i #note that it doesn't actually depend on t but need that for correctly coding eulers formula"
   ]
  },
  {
   "cell_type": "code",
   "execution_count": 40,
   "id": "c049f1c3-8b02-432e-90ca-43c38fe2ade3",
   "metadata": {},
   "outputs": [],
   "source": [
    "# def eulers(diffeq, t0, y0, deltat, 2):\n",
    "#     #should end at the n+1th value if indexed from 1 or the nth value if indexed from 0 to get n steps\n",
    "#     y_i=y0\n",
    "#     t_i=t0\n",
    "#     #just do one step\n",
    "#     y_i1=y_i+deltat*diffeq(t_i, y_i)\n",
    "#     return y_i1"
   ]
  },
  {
   "cell_type": "code",
   "execution_count": 41,
   "id": "36e37bdf-8294-49da-be22-b0e7290bd51b",
   "metadata": {},
   "outputs": [],
   "source": [
    "# eulers(mydiffeq, t0, y0, deltat,n) got y=15 as expected"
   ]
  },
  {
   "cell_type": "code",
   "execution_count": 42,
   "id": "b78922a1-4bf2-40f3-871f-9268383aba1a",
   "metadata": {},
   "outputs": [],
   "source": [
    "def eulers(diffeq, t0, y0, deltat, n):\n",
    "    #should end at the n+1th value if indexed from 1 or the nth value if indexed from 0 to get n steps\n",
    "    y_i=y0\n",
    "    t_i=t0\n",
    "    i=0\n",
    "    while i<n:\n",
    "        y_i=y_i+deltat*diffeq(t_i, y_i)\n",
    "        t_i+=deltat\n",
    "        #print(i,y_i,t_i)\n",
    "        i+=1\n",
    "    return t_i, y_i"
   ]
  },
  {
   "cell_type": "code",
   "execution_count": 43,
   "id": "a4a25f00-0ac9-4e13-81ec-5336803ed670",
   "metadata": {},
   "outputs": [
    {
     "data": {
      "text/plain": [
       "(0.5, 18.75)"
      ]
     },
     "execution_count": 43,
     "metadata": {},
     "output_type": "execute_result"
    }
   ],
   "source": [
    "eulers(mydiffeq, t0, y0, deltat,2) #okay yay this works!"
   ]
  },
  {
   "cell_type": "code",
   "execution_count": 45,
   "id": "933287ca-bd5e-4276-9c95-487ad0f8f8d1",
   "metadata": {},
   "outputs": [],
   "source": [
    "n=2"
   ]
  },
  {
   "cell_type": "code",
   "execution_count": 47,
   "id": "306500a4-54eb-477c-84f2-c810564c450c",
   "metadata": {},
   "outputs": [
    {
     "data": {
      "text/plain": [
       "array([[0., 0., 0.],\n",
       "       [0., 0., 0.]])"
      ]
     },
     "execution_count": 47,
     "metadata": {},
     "output_type": "execute_result"
    }
   ],
   "source": [
    "np.zeros((2,n+1))"
   ]
  },
  {
   "cell_type": "code",
   "execution_count": 49,
   "id": "4d52b30c-95fc-4cdc-8b79-c984b2e268c7",
   "metadata": {},
   "outputs": [
    {
     "data": {
      "text/plain": [
       "array([0.  , 0.25, 0.5 ])"
      ]
     },
     "execution_count": 49,
     "metadata": {},
     "output_type": "execute_result"
    }
   ],
   "source": [
    "t0 + np.arange(0, n+1) * deltat"
   ]
  },
  {
   "cell_type": "code",
   "execution_count": 51,
   "id": "81cd8544-e3e8-48e8-8284-4314a7516e6b",
   "metadata": {},
   "outputs": [],
   "source": [
    "#let's also make a version that returns all the points along the way\n",
    "def eulers_arr(diffeq, t0, y0, deltat, n):\n",
    "    points=np.zeros((2,n+1))\n",
    "    points[0,:]=t0 + np.arange(0, n+1) * deltat\n",
    "    points[1,0]=y0\n",
    "    i=1\n",
    "    while i<=n:\n",
    "        points[1,i]=points[1,i-1]+deltat*diffeq(points[0,i-1], points[1,i-1])\n",
    "        i+=1\n",
    "    return points"
   ]
  },
  {
   "cell_type": "code",
   "execution_count": 53,
   "id": "9e90f094-621f-4dc6-bf7d-2e020720362a",
   "metadata": {},
   "outputs": [
    {
     "data": {
      "text/plain": [
       "array([[ 0.  ,  0.25,  0.5 ],\n",
       "       [12.  , 15.  , 18.75]])"
      ]
     },
     "execution_count": 53,
     "metadata": {},
     "output_type": "execute_result"
    }
   ],
   "source": [
    "eulers_arr(mydiffeq, t0, y0, deltat,2) #sweet"
   ]
  },
  {
   "cell_type": "code",
   "execution_count": 57,
   "id": "6c31d520-40dc-440e-8b29-4df2f4488fd7",
   "metadata": {},
   "outputs": [],
   "source": [
    "mypoints=eulers_arr(mydiffeq, t0, y0, deltat,5)"
   ]
  },
  {
   "cell_type": "code",
   "execution_count": 61,
   "id": "f540296d-008a-4313-8277-ac2031e35b20",
   "metadata": {},
   "outputs": [],
   "source": [
    "actualys=12*np.exp(mypoints[0])"
   ]
  },
  {
   "cell_type": "code",
   "execution_count": 65,
   "id": "f265d506-3a7a-43ff-a9d3-f107d4df0d1f",
   "metadata": {},
   "outputs": [
    {
     "data": {
      "text/plain": [
       "<matplotlib.collections.PathCollection at 0x1738703e0>"
      ]
     },
     "execution_count": 65,
     "metadata": {},
     "output_type": "execute_result"
    },
    {
     "data": {
      "image/png": "[encoded data removed]",
      "text/plain": [
       "<Figure size 640x480 with 1 Axes>"
      ]
     },
     "metadata": {},
     "output_type": "display_data"
    }
   ],
   "source": [
    "plt.scatter(mypoints[0],mypoints[1])\n",
    "plt.scatter(mypoints[0],actualys,color='green')"
   ]
  },
  {
   "cell_type": "code",
   "execution_count": 69,
   "id": "b44dedbd-d89f-4b84-96b3-4bbad1ddcf36",
   "metadata": {},
   "outputs": [],
   "source": [
    "#can see the error growing over time\n",
    "#okay now time to make a version that can take in many functions\n",
    "#do simple example of a ball of mass=1kg subject to gravity"
   ]
  },
  {
   "cell_type": "code",
   "execution_count": 143,
   "id": "63e27ec3-31fb-4c3b-bad7-7ddd2062e2d1",
   "metadata": {},
   "outputs": [],
   "source": [
    "t0=0\n",
    "y0s=np.array([100,5]) #position = 100, velocity=5"
   ]
  },
  {
   "cell_type": "code",
   "execution_count": 111,
   "id": "d59b24f4-a5da-4f13-b74e-94c1b7aec4b3",
   "metadata": {},
   "outputs": [
    {
     "data": {
      "text/plain": [
       "array([0., 0.])"
      ]
     },
     "execution_count": 111,
     "metadata": {},
     "output_type": "execute_result"
    }
   ],
   "source": [
    "np.zeros(y0.shape[0])"
   ]
  },
  {
   "cell_type": "code",
   "execution_count": 113,
   "id": "29635ec6-44cb-4125-b764-35e3a71ce84d",
   "metadata": {},
   "outputs": [],
   "source": [
    "def mydiffeq(t, ys):\n",
    "    yps=np.zeros(ys.shape[0]) #stands for y primes\n",
    "    yps[0], yps[1]=ys[1], -9.8 #have to do in one row since they can depend on each other\n",
    "    return yps"
   ]
  },
  {
   "cell_type": "code",
   "execution_count": 115,
   "id": "ebe517e3-7e5d-4854-a0fd-6b08d8faed9d",
   "metadata": {},
   "outputs": [
    {
     "data": {
      "text/plain": [
       "array([ 5. , -9.8])"
      ]
     },
     "execution_count": 115,
     "metadata": {},
     "output_type": "execute_result"
    }
   ],
   "source": [
    "mydiffeq(t0,y0s)"
   ]
  },
  {
   "cell_type": "code",
   "execution_count": 127,
   "id": "c6be8608-429e-44fd-86dd-a2c8710d397c",
   "metadata": {},
   "outputs": [],
   "source": [
    "def eulers_arr(diffeq, t0, y0s, deltat, n):\n",
    "    points=np.zeros((1+y0s.shape[0],n+1))\n",
    "    points[0,:]=t0 + np.arange(0, n+1) * deltat\n",
    "    points[1:,0]=y0s\n",
    "    i=1\n",
    "    while i<=n:\n",
    "        points[1:,i]=points[1:,i-1]+deltat*diffeq(points[0,i-1], points[1:,i-1])\n",
    "        i+=1\n",
    "    return points"
   ]
  },
  {
   "cell_type": "code",
   "execution_count": 135,
   "id": "af9b1a71-10d4-4c98-a99a-58bd54ab5220",
   "metadata": {},
   "outputs": [],
   "source": [
    "points=eulers_arr(mydiffeq, t0, y0s, 1, 10)"
   ]
  },
  {
   "cell_type": "code",
   "execution_count": 145,
   "id": "4b5e9c0b-8482-4201-8a17-f6c3f5b95b81",
   "metadata": {},
   "outputs": [],
   "source": [
    "yactual=100+5*points[0]-4.9*(points[0]**2)"
   ]
  },
  {
   "cell_type": "code",
   "execution_count": 149,
   "id": "383b97e6-dae9-4c5a-ab19-2b202b111690",
   "metadata": {},
   "outputs": [
    {
     "data": {
      "text/plain": [
       "<matplotlib.collections.PathCollection at 0x173c37920>"
      ]
     },
     "execution_count": 149,
     "metadata": {},
     "output_type": "execute_result"
    },
    {
     "data": {
      "image/png": "[encoded data removed]",
      "text/plain": [
       "<Figure size 640x480 with 1 Axes>"
      ]
     },
     "metadata": {},
     "output_type": "display_data"
    }
   ],
   "source": [
    "#position vs time\n",
    "plt.scatter(points[0],points[1])\n",
    "plt.scatter(points[0],yactual, color='green')"
   ]
  },
  {
   "cell_type": "code",
   "execution_count": 151,
   "id": "0ea22954-7e48-492c-beb2-78e88e0f803b",
   "metadata": {},
   "outputs": [],
   "source": [
    "vactual=5-9.8*points[0]"
   ]
  },
  {
   "cell_type": "code",
   "execution_count": 153,
   "id": "a3517e99-c214-4e2b-a4be-9e6b071960cb",
   "metadata": {},
   "outputs": [
    {
     "data": {
      "text/plain": [
       "<matplotlib.collections.PathCollection at 0x173bd5b20>"
      ]
     },
     "execution_count": 153,
     "metadata": {},
     "output_type": "execute_result"
    },
    {
     "data": {
      "image/png": "[encoded data removed]",
      "text/plain": [
       "<Figure size 640x480 with 1 Axes>"
      ]
     },
     "metadata": {},
     "output_type": "display_data"
    }
   ],
   "source": [
    "#position vs velocity\n",
    "plt.scatter(points[0],points[2])\n",
    "plt.scatter(points[0],vactual,color='green')"
   ]
  },
  {
   "cell_type": "code",
   "execution_count": 155,
   "id": "4a1e7df1-57cb-4025-9dfd-57b4d2b58e19",
   "metadata": {},
   "outputs": [],
   "source": [
    "#makes sense since in this case the euler approximation is the same as the actual velocity equation"
   ]
  },
  {
   "cell_type": "code",
   "execution_count": 248,
   "id": "248ddc9a-0222-4ce1-8b0b-24c62bcf1518",
   "metadata": {},
   "outputs": [],
   "source": [
    "def kinematics(ts, y0s):\n",
    "    yactual=y0s[0]+y0s[1]*ts+(-9.8/2)*(ts**2)\n",
    "    vactual=y0s[1]+(-9.8)*ts\n",
    "    return np.array([yactual,vactual])"
   ]
  },
  {
   "cell_type": "code",
   "execution_count": 250,
   "id": "54f3772b-92ef-4651-abfa-414313186642",
   "metadata": {},
   "outputs": [],
   "source": [
    "actuals=kinematics(points[0],y0s)"
   ]
  },
  {
   "cell_type": "code",
   "execution_count": 252,
   "id": "6ad4b71c-1f8c-4f0c-865b-3441da16a9f6",
   "metadata": {},
   "outputs": [
    {
     "name": "stdout",
     "output_type": "stream",
     "text": [
      "[ 100.   100.1   90.4   70.9   41.6    2.5  -46.4 -105.1 -173.6 -251.9\n",
      " -340. ]\n",
      "[  5.   -4.8 -14.6 -24.4 -34.2 -44.  -53.8 -63.6 -73.4 -83.2 -93. ]\n",
      "[[ 100.   100.1   90.4   70.9   41.6    2.5  -46.4 -105.1 -173.6 -251.9\n",
      "  -340. ]\n",
      " [   5.    -4.8  -14.6  -24.4  -34.2  -44.   -53.8  -63.6  -73.4  -83.2\n",
      "   -93. ]]\n"
     ]
    }
   ],
   "source": [
    "print(yactual)\n",
    "print(vactual)\n",
    "print(actuals)"
   ]
  },
  {
   "cell_type": "code",
   "execution_count": 219,
   "id": "e180a36a-634b-4faa-b506-5ba7a431fc39",
   "metadata": {},
   "outputs": [],
   "source": [
    "#create error function\n",
    "def rmse(estimates,actuals):\n",
    "    errors=estimates-actuals\n",
    "    errors2=errors**2\n",
    "    errors2s=np.zeros(errors2.shape[0])\n",
    "    errors2sm=errors2.mean(axis=1)\n",
    "    return errors2sm**0.5"
   ]
  },
  {
   "cell_type": "code",
   "execution_count": 246,
   "id": "68f508a4-92f9-49ce-a3fd-7b6a51aca236",
   "metadata": {},
   "outputs": [
    {
     "data": {
      "text/plain": [
       "array([2.89887909e+01, 8.83320525e-15])"
      ]
     },
     "execution_count": 246,
     "metadata": {},
     "output_type": "execute_result"
    }
   ],
   "source": [
    "rmse(points[1:],actuals)"
   ]
  },
  {
   "cell_type": "code",
   "execution_count": 231,
   "id": "73f89919-239f-4b6a-a032-1e4c59982b67",
   "metadata": {},
   "outputs": [],
   "source": [
    "deltats=np.zeros(10)\n",
    "for i in np.arange(0,deltats.shape[0],1):\n",
    "    if i==0:\n",
    "        deltats[i]=1\n",
    "    else:\n",
    "        deltats[i]=deltats[i-1]/2"
   ]
  },
  {
   "cell_type": "code",
   "execution_count": 233,
   "id": "ffcff2c8-7493-4130-9cdb-f799bdcf093b",
   "metadata": {},
   "outputs": [
    {
     "name": "stdout",
     "output_type": "stream",
     "text": [
      "[1.         0.5        0.25       0.125      0.0625     0.03125\n",
      " 0.015625   0.0078125  0.00390625 0.00195312]\n"
     ]
    }
   ],
   "source": [
    "print(deltats)"
   ]
  },
  {
   "cell_type": "code",
   "execution_count": 316,
   "id": "6e59af12-72a9-4adc-a0c1-2102c6460b7c",
   "metadata": {},
   "outputs": [],
   "source": [
    "def errorvsdeltat(estimator, diffeq, actualfn, t0, y0s, n):\n",
    "    deltats=np.zeros(10)\n",
    "    for i in range(deltats.shape[0]):\n",
    "        if i==0:\n",
    "            deltats[i]=1\n",
    "        else:\n",
    "            deltats[i]=deltats[i-1]/2\n",
    "    normerrors=np.zeros((y0s.shape[0],10))\n",
    "    for i in range(deltats.shape[0]):\n",
    "        estimates=estimator(diffeq, t0, y0s, deltats[i], n)\n",
    "        actuals=actualfn(estimates[0],y0s)\n",
    "        errors=rmse(estimates[1:],actuals)\n",
    "        normerrors[:,i]=errors/deltats[i]\n",
    "    factor=np.zeros((y0s.shape[0],9))\n",
    "    for i in range(factor.shape[1]):\n",
    "        factor[:,i]=normerrors[:,i]/normerrors[:,i+1]\n",
    "    return factor"
   ]
  },
  {
   "cell_type": "code",
   "execution_count": 318,
   "id": "26098588-c78f-47c8-860d-52ee5b6e7cb6",
   "metadata": {},
   "outputs": [
    {
     "data": {
      "text/plain": [
       "array([[2.        , 2.        , 2.        , 2.        , 2.        ,\n",
       "        2.        , 2.        , 2.        , 2.        ],\n",
       "       [1.        , 8.24621125, 0.70710678, 0.13187609, 0.58503154,\n",
       "        0.29336935, 0.2440703 , 0.9701425 , 0.2576941 ]])"
      ]
     },
     "execution_count": 318,
     "metadata": {},
     "output_type": "execute_result"
    }
   ],
   "source": [
    "errorvsdeltat(eulers_arr,mydiffeq,kinematics,t0,y0s,10)"
   ]
  },
  {
   "cell_type": "code",
   "execution_count": null,
   "id": "38b0f78e-4580-440a-a84a-5338c8bb00c2",
   "metadata": {},
   "outputs": [],
   "source": [
    "#okay now let's code up a RK4 method"
   ]
  },
  {
   "cell_type": "code",
   "execution_count": 361,
   "id": "371255cd-2d3c-4025-8ecf-deeb93c85c35",
   "metadata": {},
   "outputs": [],
   "source": [
    "def RK4(diffeq, t0, y0s, deltat, n):\n",
    "    if type(y0s)!=np.ndarray:\n",
    "        y0s=np.array([y0s])\n",
    "    points=np.zeros((1+y0s.shape[0],n+1)) \n",
    "    points[0,:]=t0 + np.arange(0, n+1) * deltat #this is the array of ts\n",
    "    points[1:,0]=y0s\n",
    "    deltat2=deltat/2\n",
    "    i=1\n",
    "    while i<=n:\n",
    "        t=points[0,i-1]\n",
    "        ys=points[1:,i-1]\n",
    "        k1=diffeq(t, ys)\n",
    "        print(k1)\n",
    "        k2=diffeq(t+deltat2,ys+deltat2*k1)\n",
    "        k3=diffeq(t+deltat2,ys+deltat2*k2)\n",
    "        k4=diffeq(t+deltat,ys+deltat*k3)\n",
    "        points[1:,i]=points[1:,i-1]+(deltat/6)*(k1+2*k2+2*k3+k4)\n",
    "        i+=1\n",
    "    return points"
   ]
  },
  {
   "cell_type": "code",
   "execution_count": 366,
   "id": "243193b1-c5f0-47b8-ad56-eeb67ff98edf",
   "metadata": {},
   "outputs": [],
   "source": [
    "def simple(t, y):\n",
    "    return y"
   ]
  },
  {
   "cell_type": "code",
   "execution_count": 369,
   "id": "6b23cef6-efe9-4454-bd7f-6d2495595cce",
   "metadata": {},
   "outputs": [
    {
     "name": "stdout",
     "output_type": "stream",
     "text": [
      "[12.]\n",
      "[15.40820312]\n",
      "[19.78439363]\n",
      "[25.40349631]\n",
      "[32.61851927]\n"
     ]
    },
    {
     "data": {
      "text/plain": [
       "array([[ 0.        ,  0.25      ,  0.5       ,  0.75      ,  1.        ,\n",
       "         1.25      ],\n",
       "       [12.        , 15.40820312, 19.78439363, 25.40349631, 32.61851927,\n",
       "        41.88273088]])"
      ]
     },
     "execution_count": 369,
     "metadata": {},
     "output_type": "execute_result"
    }
   ],
   "source": [
    "RK4(simple, 0, 12, 0.25, 5)"
   ]
  },
  {
   "cell_type": "code",
   "execution_count": 372,
   "id": "f1dd232c-b9a3-4534-bbdd-b957d708d21d",
   "metadata": {},
   "outputs": [],
   "source": [
    "def simple_actual(t,y0):\n",
    "    return y0*np.exp(t)"
   ]
  },
  {
   "cell_type": "code",
   "execution_count": 376,
   "id": "54d7e6e9-d325-49ae-b114-76a526602409",
   "metadata": {},
   "outputs": [
    {
     "ename": "TypeError",
     "evalue": "errorvsdeltat() takes 6 positional arguments but 8 were given",
     "output_type": "error",
     "traceback": [
      "\u001b[0;31m---------------------------------------------------------------------------\u001b[0m",
      "\u001b[0;31mTypeError\u001b[0m                                 Traceback (most recent call last)",
      "Cell \u001b[0;32mIn[376], line 1\u001b[0m\n\u001b[0;32m----> 1\u001b[0m errorvsdeltat(RK4,rmse, simple, simple_actual, \u001b[38;5;241m0\u001b[39m, \u001b[38;5;241m12\u001b[39m, \u001b[38;5;241m5\u001b[39m, \u001b[38;5;241m20\u001b[39m)\n",
      "\u001b[0;31mTypeError\u001b[0m: errorvsdeltat() takes 6 positional arguments but 8 were given"
     ]
    }
   ],
   "source": [
    "errorvsdeltat(RK4,rmse, simple, simple_actual, 0, 12, 5, 20)"
   ]
  },
  {
   "cell_type": "code",
   "execution_count": null,
   "id": "a3eae60a-5f9e-4369-ba88-6e98abf3ef58",
   "metadata": {},
   "outputs": [],
   "source": []
  }
 ],
 "metadata": {
  "kernelspec": {
   "display_name": "Python [conda env:base] *",
   "language": "python",
   "name": "conda-base-py"
  },
  "language_info": {
   "codemirror_mode": {
    "name": "ipython",
    "version": 3
   },
   "file_extension": ".py",
   "mimetype": "text/x-python",
   "name": "python",
   "nbconvert_exporter": "python",
   "pygments_lexer": "ipython3",
   "version": "3.12.7"
  }
 },
 "nbformat": 4,
 "nbformat_minor": 5
}
