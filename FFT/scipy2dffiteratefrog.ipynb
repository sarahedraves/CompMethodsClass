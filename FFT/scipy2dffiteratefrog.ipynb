{
 "cells": [
  {
   "cell_type": "code",
   "execution_count": 1,
   "id": "3f039e6d-b83c-4292-bb8f-51ff1a3c37e2",
   "metadata": {},
   "outputs": [],
   "source": [
    "import numpy as np\n",
    "import matplotlib.pyplot as plt\n",
    "import scipy.fft as fft"
   ]
  },
  {
   "cell_type": "code",
   "execution_count": 2,
   "id": "35340cc7-da5b-421a-95c2-47bb54bb1cea",
   "metadata": {},
   "outputs": [],
   "source": [
    "#set parameters and initial conditions\n",
    "numpoints=1000\n",
    "numbinsx=32\n",
    "numbinsy=32\n",
    "deltat=0.01\n",
    "numsteps=100\n",
    "vt=np.zeros((2,numpoints))\n",
    "acc=np.zeros((2,numpoints))\n",
    "np.random.seed(7)\n",
    "points=np.random.normal(loc=8,scale=4,size=(2,round(numpoints/2)))\n",
    "np.random.seed(42)\n",
    "points=np.append(points,np.random.normal(loc=-8,scale=4,size=(2,round(numpoints/2))),axis=1)"
   ]
  },
  {
   "cell_type": "code",
   "execution_count": 3,
   "id": "ea62c209-37c6-493f-a49b-b8ad74ecf376",
   "metadata": {},
   "outputs": [],
   "source": [
    "#create bins\n",
    "_,xedges,yedges=np.histogram2d(points[0],points[1],bins=(numbinsx,numbinsy)) #don't need the counts yet\n",
    "deltax=xedges[1]-xedges[0]\n",
    "deltay=yedges[1]-yedges[0]\n",
    "binarea=deltax*deltay"
   ]
  },
  {
   "cell_type": "code",
   "execution_count": 4,
   "id": "2133052e-0004-4e46-803b-18f046ff01a5",
   "metadata": {},
   "outputs": [],
   "source": [
    "def plotimages(points,xedges,yedges,t):\n",
    "    #do some plots to visualize initial conditions - method of saving images from chatgpt\n",
    "    plt.scatter(points[0],points[1])\n",
    "    plt.title(f\"Frame {t}\")\n",
    "    plt.savefig(f\"Images/pointsframe_{t:03d}.png\")\n",
    "    plt.close()\n",
    "    plt.hist2d(points[0],points[1],bins=[xedges,yedges])\n",
    "    plt.title(f\"Frame {t}\")\n",
    "    plt.savefig(f\"Images/densityframe_{t:03d}.png\")\n",
    "    plt.close()"
   ]
  },
  {
   "cell_type": "code",
   "execution_count": 5,
   "id": "2fab7dda-25b5-493e-ab41-0311434e5347",
   "metadata": {},
   "outputs": [],
   "source": [
    "plotimages(points,xedges,yedges,0)"
   ]
  },
  {
   "cell_type": "code",
   "execution_count": 6,
   "id": "11acc208-c72e-46c5-9d64-986829362d1f",
   "metadata": {},
   "outputs": [],
   "source": [
    "#let's make a lot of stuff in the loop into functions to make it cleaner"
   ]
  },
  {
   "cell_type": "code",
   "execution_count": 7,
   "id": "70ff0886-8c9e-4e86-befc-5c855e4ec5a9",
   "metadata": {},
   "outputs": [],
   "source": [
    "def getdensity(points,xedges,yedges,binarea):\n",
    "    counts=np.histogram2d(points[0],points[1],bins=(xedges,yedges))[0] #only need the counts now since edges are fixed\n",
    "    density=counts/binarea\n",
    "    return density"
   ]
  },
  {
   "cell_type": "code",
   "execution_count": 8,
   "id": "62f988e5-b408-4e3e-92c2-9971d32e761e",
   "metadata": {},
   "outputs": [],
   "source": [
    "def solvepoisson(density,numbinsx,numbinsy,deltax,deltay):\n",
    "    #do fourier transform\n",
    "    fftdensity=fft.fft2(density)\n",
    "    k=fft.fftfreq(numbinsx,deltax)\n",
    "    l=fft.fftfreq(numbinsy,deltay)\n",
    "\n",
    "    #solve for potential in fourier space\n",
    "    fftpotential=np.zeros((numbinsx,numbinsy),dtype=complex)\n",
    "    for i in range(numbinsx):\n",
    "        for j in range(numbinsy):\n",
    "            if k[i]==0 and l[j]==0:\n",
    "                fftpotential[i,j]=0\n",
    "            else:\n",
    "                fftpotential[i,j]=-fftdensity[i,j]/(k[i]**2+l[j]**2)\n",
    "                \n",
    "    #do inverse fourier transform\n",
    "    potential=np.fft.ifft2(fftpotential).real\n",
    "    return potential"
   ]
  },
  {
   "cell_type": "code",
   "execution_count": 9,
   "id": "b95e62f3-9144-4c43-94c3-d3a04f794137",
   "metadata": {},
   "outputs": [],
   "source": [
    "def getlabels(points,xedges,yedges):\n",
    "    #note - changed right to false after careful consideration\n",
    "    #basically, the bins are then numbered 1 to n (instead of 0 to n-1)\n",
    "    #but that works because they are used to grab the potential, which is a padded array\n",
    "    #better to do it this way instead of unpadding the array and numbering bins 0 to n-1\n",
    "    #because then the points that end up outside a bin from rounding error still get a potential\n",
    "    xlabels=np.digitize(points[0,:].round(5),xedges.round(5),right=False)\n",
    "    ylabels=np.digitize(points[1,:].round(5),yedges.round(5),right=False)\n",
    "    return xlabels, ylabels"
   ]
  },
  {
   "cell_type": "code",
   "execution_count": 10,
   "id": "f54573c8-d5cf-4257-9d0f-2e2cd23cbce8",
   "metadata": {},
   "outputs": [],
   "source": [
    "def getgradient(potential,deltax,deltay):\n",
    "    potentialghosts=np.pad(potential, pad_width=1, mode='edge')\n",
    "    gradx,grady=np.gradient(potentialghosts, deltax, deltay)\n",
    "    return gradx,grady #not depadded as explained in get labels"
   ]
  },
  {
   "cell_type": "code",
   "execution_count": 11,
   "id": "5724d0e0-41e8-4a15-8681-d54d82041e8c",
   "metadata": {},
   "outputs": [],
   "source": [
    "def getacc(points,xedges,yedges,deltax,deltay,numbinsx,numbinsy):\n",
    "    #should start from positions and return acceleration\n",
    "    density=getdensity(points,xedges,yedges,(deltax*deltay))\n",
    "    xlabels,ylabels=getlabels(points,xedges,yedges)\n",
    "    potential=solvepoisson(density,numbinsx,numbinsy,deltax,deltay)\n",
    "    gradx,grady=getgradient(potential,deltax,deltay)\n",
    "    acc=np.zeros((2,numpoints))\n",
    "    for i in range(numpoints):\n",
    "        ixbin=xlabels[i]\n",
    "        iybin=ylabels[i]\n",
    "        acc[0,i]=-gradx[ixbin,iybin]\n",
    "        acc[1,i]=-grady[ixbin,iybin]\n",
    "    return acc"
   ]
  },
  {
   "cell_type": "code",
   "execution_count": 12,
   "id": "9fb5b97a-52c5-4033-922c-1c1975bd602d",
   "metadata": {},
   "outputs": [],
   "source": [
    "for t in range(numsteps):\n",
    "    #only thing that should pass from one life of the loop to the next is each points location and velocity\n",
    "    #as is, the three lines below exactly replicated results of the code in the giant for loop version\n",
    "    #now the steps are completely analagous to the code in the nbody simulation loop\n",
    "    #so hopefully should be able to implement the kick-drift-kick with only changing the variable/function names\n",
    "    # acc=getacc(points,xedges,yedges,deltax,deltay,numbinsx,numbinsy)\n",
    "    # vt=vt+deltat*acc\n",
    "    # points=points+vt*deltat\n",
    "\n",
    "    # (1/2) kick\n",
    "    vt += acc * deltat/2.0\n",
    "        \n",
    "    # drift\n",
    "    points += vt * deltat\n",
    "        \n",
    "    # update accelerations\n",
    "    acc = getacc(points,xedges,yedges,deltax,deltay,numbinsx,numbinsy)\n",
    "        \n",
    "    # (1/2) kick\n",
    "    vt += acc * deltat/2.0\n",
    "\n",
    "    #saving plot image\n",
    "    plotimages(points,xedges,yedges,t+1)"
   ]
  },
  {
   "cell_type": "code",
   "execution_count": 13,
   "id": "48730e2f-d563-4306-b017-1b8d6d46f37a",
   "metadata": {},
   "outputs": [],
   "source": [
    "#make animations - from chatgpt \n",
    "import imageio.v2 as imageio\n",
    "\n",
    "filenames = [f\"Images/pointsframe_{i:03d}.png\" for i in range(numsteps+1)]\n",
    "with imageio.get_writer('Images/pointsanimationleapbest.gif', mode='I', duration=10) as writer:\n",
    "    for filename in filenames:\n",
    "        image = imageio.imread(filename)\n",
    "        writer.append_data(image)\n",
    "\n",
    "filenames = [f\"Images/densityframe_{i:03d}.png\" for i in range(numsteps+1)]\n",
    "with imageio.get_writer('Images/densityanimationleapbest.gif', mode='I', duration=10) as writer:\n",
    "    for filename in filenames:\n",
    "        image = imageio.imread(filename)\n",
    "        writer.append_data(image)"
   ]
  },
  {
   "cell_type": "code",
   "execution_count": null,
   "id": "29a32309-652a-41bf-82d1-2f439a8db217",
   "metadata": {},
   "outputs": [],
   "source": []
  }
 ],
 "metadata": {
  "kernelspec": {
   "display_name": "Python [conda env:base] *",
   "language": "python",
   "name": "conda-base-py"
  },
  "language_info": {
   "codemirror_mode": {
    "name": "ipython",
    "version": 3
   },
   "file_extension": ".py",
   "mimetype": "text/x-python",
   "name": "python",
   "nbconvert_exporter": "python",
   "pygments_lexer": "ipython3",
   "version": "3.12.7"
  }
 },
 "nbformat": 4,
 "nbformat_minor": 5
}
