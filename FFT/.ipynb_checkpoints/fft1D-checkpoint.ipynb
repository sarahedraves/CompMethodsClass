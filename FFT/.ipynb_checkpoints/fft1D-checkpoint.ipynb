{
 "cells": [
  {
   "cell_type": "code",
   "execution_count": 1,
   "id": "eef3edc6-86d3-4407-93b7-7657ead172bf",
   "metadata": {},
   "outputs": [],
   "source": [
    "import numpy as np\n",
    "import matplotlib.pyplot as plt"
   ]
  },
  {
   "cell_type": "code",
   "execution_count": 2,
   "id": "1fe1a4b2-979f-4e5f-bf15-dc9f3ea54976",
   "metadata": {},
   "outputs": [],
   "source": [
    "numpoints=1000\n",
    "numbins=16 #choose even number that is a power of two"
   ]
  },
  {
   "cell_type": "code",
   "execution_count": 3,
   "id": "34a59f6e-d8cd-43de-988b-cdd13017b4cf",
   "metadata": {},
   "outputs": [],
   "source": [
    "points=np.random.normal(size=numpoints)"
   ]
  },
  {
   "cell_type": "code",
   "execution_count": 4,
   "id": "d5a8344e-dc0f-4595-a096-9bade8dc133d",
   "metadata": {},
   "outputs": [],
   "source": [
    "counts,edges=np.histogram(points,bins=numbins)"
   ]
  },
  {
   "cell_type": "code",
   "execution_count": 6,
   "id": "8efeda6c-1236-4c7a-9d50-f493cc5a22e4",
   "metadata": {},
   "outputs": [],
   "source": [
    "deltax=(edges[1]-edges[0])"
   ]
  },
  {
   "cell_type": "code",
   "execution_count": 7,
   "id": "a91a9e36-51e7-47a0-a862-aae53c5c0659",
   "metadata": {},
   "outputs": [
    {
     "data": {
      "text/plain": [
       "(array([  2.,   5.,   2.,  19.,  34.,  74., 126., 139., 168., 165., 133.,\n",
       "         72.,  34.,  18.,   5.,   4.]),\n",
       " array([-3.63861758, -3.21555325, -2.79248891, -2.36942457, -1.94636024,\n",
       "        -1.5232959 , -1.10023156, -0.67716723, -0.25410289,  0.16896144,\n",
       "         0.59202578,  1.01509012,  1.43815445,  1.86121879,  2.28428312,\n",
       "         2.70734746,  3.1304118 ]),\n",
       " <BarContainer object of 16 artists>)"
      ]
     },
     "execution_count": 7,
     "metadata": {},
     "output_type": "execute_result"
    },
    {
     "data": {
      "image/png": "[encoded data removed]",
      "text/plain": [
       "<Figure size 640x480 with 1 Axes>"
      ]
     },
     "metadata": {},
     "output_type": "display_data"
    }
   ],
   "source": [
    "plt.hist(points,edges)"
   ]
  },
  {
   "cell_type": "code",
   "execution_count": 8,
   "id": "281a45da-fa82-4827-bd68-caabf3c9a9b4",
   "metadata": {},
   "outputs": [],
   "source": [
    "density=counts/deltax"
   ]
  },
  {
   "cell_type": "code",
   "execution_count": 9,
   "id": "f3e0fa30-2e30-4dc4-b1ca-480a8666c51f",
   "metadata": {},
   "outputs": [],
   "source": [
    "fftdensity=np.fft.fft(density)"
   ]
  },
  {
   "cell_type": "code",
   "execution_count": 10,
   "id": "60a38e5d-0f03-4917-ac92-f104b98d4911",
   "metadata": {},
   "outputs": [
    {
     "data": {
      "text/plain": [
       "array([ 2.36370669e+03 +0.j        , -1.55637762e+03+32.77637427j,\n",
       "        4.58379175e+02-52.91104543j,  5.11826418e-03+74.02209013j,\n",
       "       -6.61837872e+01-66.18378721j,  5.76263473e+01+40.5942296j ,\n",
       "        2.38169885e+01-34.00139195j, -7.07550840e+01 -0.65148626j,\n",
       "        1.89096535e+01 +0.j        , -7.07550840e+01 +0.65148626j,\n",
       "        2.38169885e+01+34.00139195j,  5.76263473e+01-40.5942296j ,\n",
       "       -6.61837872e+01+66.18378721j,  5.11826418e-03-74.02209013j,\n",
       "        4.58379175e+02+52.91104543j, -1.55637762e+03-32.77637427j])"
      ]
     },
     "execution_count": 10,
     "metadata": {},
     "output_type": "execute_result"
    }
   ],
   "source": [
    "fftdensity"
   ]
  },
  {
   "cell_type": "markdown",
   "id": "f714b473-de84-47fe-9179-24d5452f7877",
   "metadata": {},
   "source": [
    "tried with real fft version to see and then it just removes the complex conjugates? not sure why those are needed. is it safe to use the real version since the inputs are real numbers? after reading the documentation it seems like yes but i'll leave it as complex for now\n",
    "array([ 714.28129336  +0.j        , -303.21198538-321.2861087j ,\n",
    "         -2.14326754+111.23818116j]) for five bins - no use the full version\n"
   ]
  },
  {
   "cell_type": "code",
   "execution_count": 12,
   "id": "9c8284ae-00a0-4c25-9a42-aad75e1b27b8",
   "metadata": {},
   "outputs": [],
   "source": [
    "deltak=2*np.pi/deltax"
   ]
  },
  {
   "cell_type": "markdown",
   "id": "8545d2c5-17ad-4579-b5bf-c23e8df67330",
   "metadata": {},
   "source": [
    "plot the fourier transform by multiplying each point by its complex conjugate to get real numbers and put the ks on the x axis - the ks should be 1*deltak, 2*deltak, etc"
   ]
  },
  {
   "cell_type": "code",
   "execution_count": 14,
   "id": "9002509d-8fac-4308-90d2-b3b241c338c3",
   "metadata": {},
   "outputs": [],
   "source": [
    "k=np.arange(1,numbins+1)\n",
    "k=k*deltak"
   ]
  },
  {
   "cell_type": "code",
   "execution_count": 15,
   "id": "66f6e31f-ace5-4a23-bbb3-75d900ec3cff",
   "metadata": {},
   "outputs": [
    {
     "data": {
      "text/plain": [
       "<matplotlib.collections.PathCollection at 0x10f5581a0>"
      ]
     },
     "execution_count": 15,
     "metadata": {},
     "output_type": "execute_result"
    },
    {
     "data": {
      "image/png": "[encoded data removed]",
      "text/plain": [
       "<Figure size 640x480 with 1 Axes>"
      ]
     },
     "metadata": {},
     "output_type": "display_data"
    }
   ],
   "source": [
    "plt.scatter(k,np.absolute(fftdensity))"
   ]
  },
  {
   "cell_type": "code",
   "execution_count": 16,
   "id": "04d87965-5740-4d9d-acaa-193b0ec9a6ef",
   "metadata": {},
   "outputs": [],
   "source": [
    "fftpotential=fftdensity*(-1/k**2)"
   ]
  },
  {
   "cell_type": "code",
   "execution_count": 17,
   "id": "9f749f97-ae87-44d6-8e88-183b10b56b6e",
   "metadata": {},
   "outputs": [],
   "source": [
    "potential=np.fft.ifft(fftpotential).real"
   ]
  },
  {
   "cell_type": "code",
   "execution_count": 18,
   "id": "fee1a784-0665-4566-834d-6aefbb293aec",
   "metadata": {},
   "outputs": [
    {
     "data": {
      "text/plain": [
       "array([-0.5722572 , -0.57668958, -0.58982144, -0.61617913, -0.65242986,\n",
       "       -0.69932195, -0.74679418, -0.77851417, -0.79610078, -0.78823636,\n",
       "       -0.75448867, -0.7033981 , -0.65511852, -0.61801816, -0.59169096,\n",
       "       -0.57728577])"
      ]
     },
     "execution_count": 18,
     "metadata": {},
     "output_type": "execute_result"
    }
   ],
   "source": [
    "potential"
   ]
  },
  {
   "cell_type": "markdown",
   "id": "e9faa62d-8225-48ad-bbb9-71999f623ad0",
   "metadata": {},
   "source": [
    "now need potential gradient. need to add ghost cells and then just do simple centered difference method. remember that deltax is the binlength. do zero outflow gradient for ghost cells."
   ]
  },
  {
   "cell_type": "code",
   "execution_count": 20,
   "id": "6022cffd-3d82-4ca3-a865-c06dd09facb4",
   "metadata": {},
   "outputs": [],
   "source": [
    "potentialghosts=np.insert(potential,0,potential[0]) #the ghost cells should be equal to the one next to it! not zero"
   ]
  },
  {
   "cell_type": "code",
   "execution_count": 21,
   "id": "964dd296-0cba-4fc2-9087-9a7e452aa0d3",
   "metadata": {},
   "outputs": [],
   "source": [
    "potentialghosts=np.append(potentialghosts,potential[-1])"
   ]
  },
  {
   "cell_type": "code",
   "execution_count": 22,
   "id": "3232704e-1b30-4794-b7ac-91c56f37ca88",
   "metadata": {},
   "outputs": [
    {
     "data": {
      "text/plain": [
       "array([-0.5722572 , -0.5722572 , -0.57668958, -0.58982144, -0.61617913,\n",
       "       -0.65242986, -0.69932195, -0.74679418, -0.77851417, -0.79610078,\n",
       "       -0.78823636, -0.75448867, -0.7033981 , -0.65511852, -0.61801816,\n",
       "       -0.59169096, -0.57728577, -0.57728577])"
      ]
     },
     "execution_count": 22,
     "metadata": {},
     "output_type": "execute_result"
    }
   ],
   "source": [
    "potentialghosts"
   ]
  },
  {
   "cell_type": "code",
   "execution_count": 23,
   "id": "feaf1015-7b46-4ae0-8071-f5a0013e6849",
   "metadata": {},
   "outputs": [],
   "source": [
    "gradient=np.zeros(numbins)\n",
    "for i in range(numbins):\n",
    "    gradient[i]=(potentialghosts[i+1]-potentialghosts[i-1])/(2*deltax)"
   ]
  },
  {
   "cell_type": "code",
   "execution_count": 24,
   "id": "0d2d305e-f61e-4c2a-a2d2-a632db7b6ed6",
   "metadata": {},
   "outputs": [
    {
     "data": {
      "text/plain": [
       "array([ 0.00594303, -0.00523842, -0.02075835, -0.04667085, -0.07399397,\n",
       "       -0.09826262, -0.11152479, -0.09359358, -0.05827317, -0.01149021,\n",
       "        0.04917941,  0.10026639,  0.11744095,  0.10090656,  0.07496207,\n",
       "        0.04813972])"
      ]
     },
     "execution_count": 24,
     "metadata": {},
     "output_type": "execute_result"
    }
   ],
   "source": [
    "gradient"
   ]
  },
  {
   "cell_type": "markdown",
   "id": "a9b2d734-9714-48ff-8b0d-9cecc86be4fa",
   "metadata": {},
   "source": [
    "now iterate to the next step"
   ]
  },
  {
   "cell_type": "code",
   "execution_count": 26,
   "id": "a1b6fd87-8be5-472d-b971-a8b3178aba59",
   "metadata": {},
   "outputs": [],
   "source": [
    "deltat=1"
   ]
  },
  {
   "cell_type": "code",
   "execution_count": 27,
   "id": "ed2c8a0f-5aa4-4f21-894c-6817c8330247",
   "metadata": {},
   "outputs": [],
   "source": [
    "vt=np.zeros(numpoints)"
   ]
  },
  {
   "cell_type": "code",
   "execution_count": 28,
   "id": "08be4cdc-617d-47c5-af9a-4742db1481a6",
   "metadata": {},
   "outputs": [
    {
     "data": {
      "text/plain": [
       "array([-3.63861758, -3.21555325, -2.79248891, -2.36942457, -1.94636024,\n",
       "       -1.5232959 , -1.10023156, -0.67716723, -0.25410289,  0.16896144,\n",
       "        0.59202578,  1.01509012,  1.43815445,  1.86121879,  2.28428312,\n",
       "        2.70734746,  3.1304118 ])"
      ]
     },
     "execution_count": 28,
     "metadata": {},
     "output_type": "execute_result"
    }
   ],
   "source": [
    "edges"
   ]
  },
  {
   "cell_type": "code",
   "execution_count": 29,
   "id": "b81dae6b-a75c-46cb-bc74-86bd9f076afb",
   "metadata": {},
   "outputs": [],
   "source": [
    "binlabels=np.digitize(points.round(5),edges.round(5),right=True)"
   ]
  },
  {
   "cell_type": "code",
   "execution_count": 30,
   "id": "a2f8765d-7daa-4739-bf0e-375064c2ff7d",
   "metadata": {},
   "outputs": [
    {
     "data": {
      "text/plain": [
       "(array([218, 393, 769, 877]),)"
      ]
     },
     "execution_count": 30,
     "metadata": {},
     "output_type": "execute_result"
    }
   ],
   "source": [
    "np.where(binlabels==16)"
   ]
  },
  {
   "cell_type": "code",
   "execution_count": 31,
   "id": "d9573335-f291-4592-b00b-70c53043e346",
   "metadata": {},
   "outputs": [
    {
     "data": {
      "text/plain": [
       "1.33557"
      ]
     },
     "execution_count": 31,
     "metadata": {},
     "output_type": "execute_result"
    }
   ],
   "source": [
    "points[71].round(5)"
   ]
  },
  {
   "cell_type": "code",
   "execution_count": 32,
   "id": "6661f94a-fa09-4103-afc8-df61d379e939",
   "metadata": {},
   "outputs": [],
   "source": [
    "vt1=np.zeros(numpoints)"
   ]
  },
  {
   "cell_type": "code",
   "execution_count": 33,
   "id": "71685723-71dd-46c0-8456-1e3507282fce",
   "metadata": {},
   "outputs": [],
   "source": [
    "for i in range(numpoints):\n",
    "    ibin=binlabels[i]\n",
    "    vt1[i]=vt[i]*points[i]-deltat*gradient[ibin-1]"
   ]
  },
  {
   "cell_type": "code",
   "execution_count": 35,
   "id": "35983cea-4f3d-47cc-9ea0-70cb87ac6f5d",
   "metadata": {},
   "outputs": [],
   "source": [
    "points=points+vt1*deltat"
   ]
  },
  {
   "cell_type": "code",
   "execution_count": 37,
   "id": "cc35bda3-1798-4f89-8317-93ab403bade7",
   "metadata": {},
   "outputs": [
    {
     "data": {
      "text/plain": [
       "(array([  1.,   5.,   2.,  14.,  33.,  56., 113., 139., 187., 202., 137.,\n",
       "         63.,  28.,  12.,   4.,   3.]),\n",
       " array([-3.63861758, -3.21555325, -2.79248891, -2.36942457, -1.94636024,\n",
       "        -1.5232959 , -1.10023156, -0.67716723, -0.25410289,  0.16896144,\n",
       "         0.59202578,  1.01509012,  1.43815445,  1.86121879,  2.28428312,\n",
       "         2.70734746,  3.1304118 ]),\n",
       " <BarContainer object of 16 artists>)"
      ]
     },
     "execution_count": 37,
     "metadata": {},
     "output_type": "execute_result"
    },
    {
     "data": {
      "image/png": "[encoded data removed]",
      "text/plain": [
       "<Figure size 640x480 with 1 Axes>"
      ]
     },
     "metadata": {},
     "output_type": "display_data"
    }
   ],
   "source": [
    "plt.hist(points,edges)"
   ]
  },
  {
   "cell_type": "code",
   "execution_count": null,
   "id": "0c2bce75-b98e-4a24-9a6e-0e15b0b277a9",
   "metadata": {},
   "outputs": [],
   "source": []
  }
 ],
 "metadata": {
  "kernelspec": {
   "display_name": "Python [conda env:base] *",
   "language": "python",
   "name": "conda-base-py"
  },
  "language_info": {
   "codemirror_mode": {
    "name": "ipython",
    "version": 3
   },
   "file_extension": ".py",
   "mimetype": "text/x-python",
   "name": "python",
   "nbconvert_exporter": "python",
   "pygments_lexer": "ipython3",
   "version": "3.12.7"
  }
 },
 "nbformat": 4,
 "nbformat_minor": 5
}
