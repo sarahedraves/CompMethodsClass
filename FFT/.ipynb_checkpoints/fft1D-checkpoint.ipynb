{
 "cells": [
  {
   "cell_type": "code",
   "execution_count": 1,
   "id": "eef3edc6-86d3-4407-93b7-7657ead172bf",
   "metadata": {},
   "outputs": [],
   "source": [
    "import numpy as np\n",
    "import matplotlib.pyplot as plt"
   ]
  },
  {
   "cell_type": "code",
   "execution_count": 2,
   "id": "1fe1a4b2-979f-4e5f-bf15-dc9f3ea54976",
   "metadata": {},
   "outputs": [],
   "source": [
    "numpoints=1000\n",
    "numbins=5"
   ]
  },
  {
   "cell_type": "code",
   "execution_count": 3,
   "id": "34a59f6e-d8cd-43de-988b-cdd13017b4cf",
   "metadata": {},
   "outputs": [],
   "source": [
    "points=np.random.normal(size=numpoints)"
   ]
  },
  {
   "cell_type": "code",
   "execution_count": 4,
   "id": "d5a8344e-dc0f-4595-a096-9bade8dc133d",
   "metadata": {},
   "outputs": [],
   "source": [
    "counts,edges=np.histogram(points,bins=numbins)"
   ]
  },
  {
   "cell_type": "code",
   "execution_count": 5,
   "id": "8efeda6c-1236-4c7a-9d50-f493cc5a22e4",
   "metadata": {},
   "outputs": [],
   "source": [
    "binlength=(edges[1]-edges[0])"
   ]
  },
  {
   "cell_type": "code",
   "execution_count": 6,
   "id": "281a45da-fa82-4827-bd68-caabf3c9a9b4",
   "metadata": {},
   "outputs": [],
   "source": [
    "density=counts/binlength"
   ]
  },
  {
   "cell_type": "code",
   "execution_count": 7,
   "id": "a91a9e36-51e7-47a0-a862-aae53c5c0659",
   "metadata": {},
   "outputs": [
    {
     "data": {
      "text/plain": [
       "<matplotlib.patches.StepPatch at 0x11bbe0290>"
      ]
     },
     "execution_count": 7,
     "metadata": {},
     "output_type": "execute_result"
    },
    {
     "data": {
      "image/png": "[encoded data removed]",
      "text/plain": [
       "<Figure size 640x480 with 1 Axes>"
      ]
     },
     "metadata": {},
     "output_type": "display_data"
    }
   ],
   "source": [
    "plt.stairs(density,edges)"
   ]
  },
  {
   "cell_type": "code",
   "execution_count": 8,
   "id": "f3e0fa30-2e30-4dc4-b1ca-480a8666c51f",
   "metadata": {},
   "outputs": [],
   "source": [
    "fftdensity=np.fft.fft(density)"
   ]
  },
  {
   "cell_type": "code",
   "execution_count": 9,
   "id": "60a38e5d-0f03-4917-ac92-f104b98d4911",
   "metadata": {},
   "outputs": [
    {
     "data": {
      "text/plain": [
       "array([ 818.15045202  +0.j        , -436.54657537-153.79242151j,\n",
       "         68.37887196 +74.85127937j,   68.37887196 -74.85127937j,\n",
       "       -436.54657537+153.79242151j])"
      ]
     },
     "execution_count": 9,
     "metadata": {},
     "output_type": "execute_result"
    }
   ],
   "source": [
    "fftdensity"
   ]
  },
  {
   "cell_type": "markdown",
   "id": "f714b473-de84-47fe-9179-24d5452f7877",
   "metadata": {},
   "source": [
    "tried with real fft version to see and then it just removes the complex conjugates? not sure why those are needed. is it safe to use the real version since the inputs are real numbers? after reading the documentation it seems like yes but i'll leave it as complex for now\n",
    "array([ 714.28129336  +0.j        , -303.21198538-321.2861087j ,\n",
    "         -2.14326754+111.23818116j]) for five bins\n"
   ]
  },
  {
   "cell_type": "code",
   "execution_count": 11,
   "id": "9c8284ae-00a0-4c25-9a42-aad75e1b27b8",
   "metadata": {},
   "outputs": [],
   "source": [
    "k=2*np.pi/numbins"
   ]
  },
  {
   "cell_type": "code",
   "execution_count": 12,
   "id": "04d87965-5740-4d9d-acaa-193b0ec9a6ef",
   "metadata": {},
   "outputs": [],
   "source": [
    "fftpotential=fftdensity*(-1/k**2)"
   ]
  },
  {
   "cell_type": "code",
   "execution_count": 13,
   "id": "9f749f97-ae87-44d6-8e88-183b10b56b6e",
   "metadata": {},
   "outputs": [],
   "source": [
    "potential=np.fft.ifft(fftpotential).real"
   ]
  },
  {
   "cell_type": "code",
   "execution_count": 14,
   "id": "fee1a784-0665-4566-834d-6aefbb293aec",
   "metadata": {},
   "outputs": [
    {
     "data": {
      "text/plain": [
       "array([ -10.36199652,  -81.34167272, -239.36211972, -157.50234717,\n",
       "        -29.53169009])"
      ]
     },
     "execution_count": 14,
     "metadata": {},
     "output_type": "execute_result"
    }
   ],
   "source": [
    "potential"
   ]
  },
  {
   "cell_type": "markdown",
   "id": "e9faa62d-8225-48ad-bbb9-71999f623ad0",
   "metadata": {},
   "source": [
    "now need potential gradient. need to add ghost cells and then just do simple centered difference method. remember that deltax is the binlength. do zero outflow gradient for ghost cells."
   ]
  },
  {
   "cell_type": "code",
   "execution_count": 16,
   "id": "6022cffd-3d82-4ca3-a865-c06dd09facb4",
   "metadata": {},
   "outputs": [],
   "source": [
    "potentialghosts=np.insert(potential,0,0)"
   ]
  },
  {
   "cell_type": "code",
   "execution_count": 17,
   "id": "964dd296-0cba-4fc2-9087-9a7e452aa0d3",
   "metadata": {},
   "outputs": [],
   "source": [
    "potentialghosts=np.append(potentialghosts,0)"
   ]
  },
  {
   "cell_type": "code",
   "execution_count": 18,
   "id": "3232704e-1b30-4794-b7ac-91c56f37ca88",
   "metadata": {},
   "outputs": [
    {
     "data": {
      "text/plain": [
       "array([   0.        ,  -10.36199652,  -81.34167272, -239.36211972,\n",
       "       -157.50234717,  -29.53169009,    0.        ])"
      ]
     },
     "execution_count": 18,
     "metadata": {},
     "output_type": "execute_result"
    }
   ],
   "source": [
    "potentialghosts"
   ]
  },
  {
   "cell_type": "code",
   "execution_count": 19,
   "id": "feaf1015-7b46-4ae0-8071-f5a0013e6849",
   "metadata": {},
   "outputs": [],
   "source": [
    "gradient=np.zeros(numbins)\n",
    "for i in range(numbins):\n",
    "    gradient[i]=(potentialghosts[i+1]-potentialghosts[i-1])/(2*binlength)"
   ]
  },
  {
   "cell_type": "code",
   "execution_count": 20,
   "id": "0d2d305e-f61e-4c2a-a2d2-a632db7b6ed6",
   "metadata": {},
   "outputs": [
    {
     "data": {
      "text/plain": [
       "array([ -4.23883607, -33.27486315, -93.67827715, -31.15544512,\n",
       "        85.83643042])"
      ]
     },
     "execution_count": 20,
     "metadata": {},
     "output_type": "execute_result"
    }
   ],
   "source": [
    "gradient"
   ]
  },
  {
   "cell_type": "markdown",
   "id": "a9b2d734-9714-48ff-8b0d-9cecc86be4fa",
   "metadata": {},
   "source": [
    "now iterate to the next step"
   ]
  },
  {
   "cell_type": "code",
   "execution_count": 22,
   "id": "a1b6fd87-8be5-472d-b971-a8b3178aba59",
   "metadata": {},
   "outputs": [],
   "source": [
    "deltat=1"
   ]
  },
  {
   "cell_type": "code",
   "execution_count": 23,
   "id": "ed2c8a0f-5aa4-4f21-894c-6817c8330247",
   "metadata": {},
   "outputs": [],
   "source": [
    "vt=np.zeros(numpoints)"
   ]
  },
  {
   "cell_type": "code",
   "execution_count": 24,
   "id": "08be4cdc-617d-47c5-af9a-4742db1481a6",
   "metadata": {},
   "outputs": [
    {
     "data": {
      "text/plain": [
       "array([-3.36056328, -2.1382942 , -0.91602512,  0.30624396,  1.52851304,\n",
       "        2.75078212])"
      ]
     },
     "execution_count": 24,
     "metadata": {},
     "output_type": "execute_result"
    }
   ],
   "source": [
    "edges"
   ]
  },
  {
   "cell_type": "code",
   "execution_count": 25,
   "id": "b81dae6b-a75c-46cb-bc74-86bd9f076afb",
   "metadata": {},
   "outputs": [],
   "source": [
    "binlabels=np.digitize(points.round(8),edges,right=True)"
   ]
  },
  {
   "cell_type": "code",
   "execution_count": 26,
   "id": "a2f8765d-7daa-4739-bf0e-375064c2ff7d",
   "metadata": {},
   "outputs": [
    {
     "data": {
      "text/plain": [
       "(array([], dtype=int64),)"
      ]
     },
     "execution_count": 26,
     "metadata": {},
     "output_type": "execute_result"
    }
   ],
   "source": [
    "np.where(binlabels==6)"
   ]
  },
  {
   "cell_type": "code",
   "execution_count": 27,
   "id": "d9573335-f291-4592-b00b-70c53043e346",
   "metadata": {},
   "outputs": [
    {
     "data": {
      "text/plain": [
       "-0.8838360310922632"
      ]
     },
     "execution_count": 27,
     "metadata": {},
     "output_type": "execute_result"
    }
   ],
   "source": [
    "points[17]"
   ]
  },
  {
   "cell_type": "code",
   "execution_count": 28,
   "id": "6661f94a-fa09-4103-afc8-df61d379e939",
   "metadata": {},
   "outputs": [],
   "source": [
    "vt1=np.zeros(numpoints)"
   ]
  },
  {
   "cell_type": "code",
   "execution_count": 29,
   "id": "71685723-71dd-46c0-8456-1e3507282fce",
   "metadata": {},
   "outputs": [],
   "source": [
    "for i in range(numpoints):\n",
    "    ibin=binlabels[i]\n",
    "    vt1[i]=vt[i]*points[i]-deltat*gradient[ibin-1]"
   ]
  },
  {
   "cell_type": "code",
   "execution_count": 30,
   "id": "2ba86554-a6d3-439d-aa1a-b626a2630835",
   "metadata": {},
   "outputs": [
    {
     "data": {
      "text/plain": [
       "array([ 33.27486315,  93.67827715,  31.15544512,  33.27486315,\n",
       "        93.67827715,  93.67827715,  31.15544512,  31.15544512,\n",
       "        93.67827715,  93.67827715,  93.67827715,  31.15544512,\n",
       "        93.67827715,  93.67827715,  31.15544512,  31.15544512,\n",
       "        93.67827715,  93.67827715,  33.27486315,  93.67827715,\n",
       "        33.27486315,  93.67827715,  33.27486315,  93.67827715,\n",
       "        31.15544512,  33.27486315,  93.67827715,  93.67827715,\n",
       "        93.67827715,  31.15544512,  93.67827715,  33.27486315,\n",
       "        93.67827715,  93.67827715,  93.67827715,  31.15544512,\n",
       "        31.15544512,  33.27486315,  31.15544512,  33.27486315,\n",
       "        31.15544512,  93.67827715,  31.15544512,  93.67827715,\n",
       "        33.27486315,  31.15544512,  31.15544512,  93.67827715,\n",
       "        33.27486315,  93.67827715,  33.27486315,  33.27486315,\n",
       "       -85.83643042,  31.15544512,  33.27486315,  31.15544512,\n",
       "        93.67827715,  33.27486315,  93.67827715,  33.27486315,\n",
       "        93.67827715,  33.27486315,  31.15544512,  93.67827715,\n",
       "        93.67827715,  31.15544512,  31.15544512,  31.15544512,\n",
       "         4.23883607,  31.15544512,  33.27486315,  93.67827715,\n",
       "        31.15544512,  31.15544512,  31.15544512,  33.27486315,\n",
       "        93.67827715,  33.27486315,  31.15544512,  31.15544512,\n",
       "        93.67827715,  31.15544512,  31.15544512,  93.67827715,\n",
       "        93.67827715,  31.15544512,  93.67827715,  93.67827715,\n",
       "        33.27486315,  33.27486315,  93.67827715,  31.15544512,\n",
       "        31.15544512,  93.67827715,  93.67827715,  93.67827715,\n",
       "        93.67827715,  33.27486315, -85.83643042,  93.67827715,\n",
       "        31.15544512,  93.67827715,  31.15544512,  93.67827715,\n",
       "        93.67827715,  33.27486315,  31.15544512,  33.27486315,\n",
       "         4.23883607,  93.67827715,  33.27486315,  93.67827715,\n",
       "        33.27486315,  93.67827715,  33.27486315,  31.15544512,\n",
       "        93.67827715,  31.15544512,  31.15544512,  31.15544512,\n",
       "        31.15544512,  31.15544512,  93.67827715,  33.27486315,\n",
       "        31.15544512,  93.67827715,  31.15544512, -85.83643042,\n",
       "        93.67827715,  93.67827715,  31.15544512,  93.67827715,\n",
       "        93.67827715,  93.67827715,  93.67827715, -85.83643042,\n",
       "        31.15544512,  33.27486315,  31.15544512,  31.15544512,\n",
       "       -85.83643042,  33.27486315,  33.27486315,  31.15544512,\n",
       "        33.27486315,  93.67827715,  93.67827715,  93.67827715,\n",
       "        31.15544512,  93.67827715,  93.67827715,  33.27486315,\n",
       "        31.15544512,  31.15544512,  93.67827715,  31.15544512,\n",
       "        33.27486315,  31.15544512,  93.67827715,  31.15544512,\n",
       "        33.27486315,   4.23883607,  93.67827715,  93.67827715,\n",
       "        33.27486315,  93.67827715,  31.15544512,  31.15544512,\n",
       "        33.27486315,  31.15544512,  93.67827715,  93.67827715,\n",
       "        93.67827715,  33.27486315,  33.27486315,  33.27486315,\n",
       "        93.67827715,  93.67827715,  93.67827715,  93.67827715,\n",
       "        93.67827715,  93.67827715,  33.27486315,  93.67827715,\n",
       "        31.15544512,   4.23883607,  93.67827715,  93.67827715,\n",
       "        31.15544512,   4.23883607,  31.15544512,  31.15544512,\n",
       "        31.15544512,  93.67827715,  31.15544512,  93.67827715,\n",
       "       -85.83643042,  93.67827715,  31.15544512,  33.27486315,\n",
       "        93.67827715,  93.67827715,  93.67827715,  31.15544512,\n",
       "        33.27486315,  31.15544512,  93.67827715,  31.15544512,\n",
       "        93.67827715,  93.67827715,  33.27486315,  93.67827715,\n",
       "        93.67827715,  93.67827715,  93.67827715, -85.83643042,\n",
       "        93.67827715,  93.67827715,  31.15544512,  93.67827715,\n",
       "        93.67827715,  31.15544512,  33.27486315,  93.67827715,\n",
       "        93.67827715, -85.83643042,  93.67827715,  31.15544512,\n",
       "        93.67827715,  93.67827715,  93.67827715,  31.15544512,\n",
       "        93.67827715,  33.27486315,  31.15544512,  93.67827715,\n",
       "        33.27486315,  33.27486315,  33.27486315,  31.15544512,\n",
       "        93.67827715,  31.15544512,  33.27486315, -85.83643042,\n",
       "        33.27486315,  31.15544512,  31.15544512,  31.15544512,\n",
       "        33.27486315,  31.15544512,  93.67827715,  93.67827715,\n",
       "        93.67827715,  93.67827715,  93.67827715,  31.15544512,\n",
       "        93.67827715,  31.15544512,  33.27486315,  93.67827715,\n",
       "        93.67827715,  31.15544512,  93.67827715,  93.67827715,\n",
       "        93.67827715,  93.67827715,  93.67827715,  93.67827715,\n",
       "        93.67827715,  93.67827715,  31.15544512,  93.67827715,\n",
       "        93.67827715,  93.67827715,  93.67827715,  33.27486315,\n",
       "        31.15544512,  33.27486315,  31.15544512,  31.15544512,\n",
       "        93.67827715,  93.67827715, -85.83643042,  93.67827715,\n",
       "        31.15544512,  31.15544512,  31.15544512,  31.15544512,\n",
       "        31.15544512,  93.67827715,  31.15544512,  93.67827715,\n",
       "        93.67827715,  93.67827715,  93.67827715,  93.67827715,\n",
       "        33.27486315,  93.67827715,  93.67827715,  93.67827715,\n",
       "        93.67827715,  33.27486315,  33.27486315,  93.67827715,\n",
       "        31.15544512,  31.15544512,  93.67827715,  93.67827715,\n",
       "        31.15544512,  93.67827715,  31.15544512,  31.15544512,\n",
       "        93.67827715,  33.27486315,  93.67827715,  93.67827715,\n",
       "        93.67827715,  93.67827715,  93.67827715,  31.15544512,\n",
       "        31.15544512,  93.67827715,  31.15544512,  31.15544512,\n",
       "        93.67827715,  33.27486315,  93.67827715,  33.27486315,\n",
       "        93.67827715,  93.67827715,  93.67827715, -85.83643042,\n",
       "        31.15544512, -85.83643042, -85.83643042,  93.67827715,\n",
       "        31.15544512, -85.83643042,  93.67827715,  93.67827715,\n",
       "        33.27486315,  31.15544512,  31.15544512,  93.67827715,\n",
       "        31.15544512,  93.67827715,  93.67827715,  33.27486315,\n",
       "         4.23883607,  93.67827715,  93.67827715,  93.67827715,\n",
       "        93.67827715,  93.67827715,  93.67827715,  93.67827715,\n",
       "        93.67827715,  93.67827715,  31.15544512,  31.15544512,\n",
       "       -85.83643042,  33.27486315,  31.15544512,  93.67827715,\n",
       "        93.67827715,  93.67827715,  93.67827715,  93.67827715,\n",
       "        31.15544512,  31.15544512,   4.23883607,  93.67827715,\n",
       "        93.67827715,  93.67827715,  31.15544512,  31.15544512,\n",
       "        31.15544512,  93.67827715,  33.27486315,  31.15544512,\n",
       "        93.67827715,   4.23883607,  31.15544512,  93.67827715,\n",
       "        93.67827715,  31.15544512,  31.15544512,  93.67827715,\n",
       "        31.15544512,  31.15544512,  93.67827715,  31.15544512,\n",
       "        33.27486315,  33.27486315,  31.15544512,  31.15544512,\n",
       "        31.15544512,  31.15544512,  31.15544512,  93.67827715,\n",
       "        31.15544512,  93.67827715, -85.83643042,  93.67827715,\n",
       "        31.15544512, -85.83643042,  33.27486315,  31.15544512,\n",
       "        33.27486315, -85.83643042,  93.67827715, -85.83643042,\n",
       "        31.15544512,  93.67827715,  33.27486315,  93.67827715,\n",
       "        93.67827715,  33.27486315,  31.15544512,  93.67827715,\n",
       "        31.15544512,  31.15544512,  93.67827715,  31.15544512,\n",
       "        93.67827715,  31.15544512,  31.15544512,  33.27486315,\n",
       "        31.15544512,  93.67827715,  31.15544512,  93.67827715,\n",
       "        31.15544512,  93.67827715,  31.15544512, -85.83643042,\n",
       "        31.15544512,  93.67827715,  93.67827715,  93.67827715,\n",
       "        93.67827715,  93.67827715,  93.67827715,  31.15544512,\n",
       "        31.15544512, -85.83643042,  93.67827715,  93.67827715,\n",
       "        31.15544512,  93.67827715,  93.67827715,  93.67827715,\n",
       "        93.67827715,  33.27486315,  93.67827715,  93.67827715,\n",
       "        93.67827715,  33.27486315,  93.67827715,  93.67827715,\n",
       "        31.15544512,  31.15544512,  93.67827715,  31.15544512,\n",
       "        93.67827715,  93.67827715,  93.67827715, -85.83643042,\n",
       "        93.67827715,  31.15544512, -85.83643042,  93.67827715,\n",
       "        93.67827715,  93.67827715,  31.15544512,  31.15544512,\n",
       "        31.15544512,  31.15544512,  33.27486315,  31.15544512,\n",
       "        93.67827715,  31.15544512,  31.15544512,  33.27486315,\n",
       "        93.67827715,  31.15544512,  93.67827715,  31.15544512,\n",
       "        93.67827715,  93.67827715,  31.15544512,  93.67827715,\n",
       "        93.67827715,  93.67827715,  93.67827715,  33.27486315,\n",
       "        93.67827715,  93.67827715,  93.67827715,  31.15544512,\n",
       "        33.27486315,  93.67827715, -85.83643042,  93.67827715,\n",
       "        31.15544512,  93.67827715,  31.15544512,  93.67827715,\n",
       "       -85.83643042,  33.27486315,  31.15544512,  93.67827715,\n",
       "        31.15544512,  33.27486315,  31.15544512,  93.67827715,\n",
       "        93.67827715,  31.15544512,  31.15544512,  93.67827715,\n",
       "        93.67827715,  33.27486315,  93.67827715,  93.67827715,\n",
       "        31.15544512, -85.83643042,  33.27486315,  93.67827715,\n",
       "        31.15544512,  93.67827715,  93.67827715,  31.15544512,\n",
       "         4.23883607,  31.15544512,  93.67827715,  93.67827715,\n",
       "       -85.83643042,  33.27486315,  31.15544512,  33.27486315,\n",
       "        31.15544512,  93.67827715,  93.67827715,  33.27486315,\n",
       "        31.15544512,  93.67827715,  93.67827715,  31.15544512,\n",
       "        33.27486315,  93.67827715,  33.27486315,  93.67827715,\n",
       "        33.27486315,  93.67827715, -85.83643042,   4.23883607,\n",
       "        31.15544512,  93.67827715,  33.27486315, -85.83643042,\n",
       "        33.27486315,  93.67827715, -85.83643042,  31.15544512,\n",
       "        31.15544512,  93.67827715,  31.15544512,  33.27486315,\n",
       "        31.15544512,  93.67827715,  31.15544512,  93.67827715,\n",
       "        93.67827715,  93.67827715,  93.67827715,  31.15544512,\n",
       "        93.67827715,  93.67827715,  33.27486315,  93.67827715,\n",
       "        31.15544512,  31.15544512,  33.27486315,  93.67827715,\n",
       "        93.67827715,  31.15544512,  33.27486315,  31.15544512,\n",
       "        93.67827715,  31.15544512,  31.15544512,  31.15544512,\n",
       "        93.67827715,  93.67827715,  31.15544512,  93.67827715,\n",
       "        93.67827715,  93.67827715,  31.15544512,  31.15544512,\n",
       "        31.15544512,  93.67827715,  93.67827715,  93.67827715,\n",
       "        93.67827715,  93.67827715,  33.27486315,  31.15544512,\n",
       "        93.67827715,  31.15544512,  33.27486315,  93.67827715,\n",
       "        33.27486315,  33.27486315,  31.15544512,  93.67827715,\n",
       "        33.27486315,  31.15544512,  93.67827715,  31.15544512,\n",
       "       -85.83643042,  93.67827715,  33.27486315,  33.27486315,\n",
       "        93.67827715,  31.15544512,  93.67827715,  93.67827715,\n",
       "       -85.83643042,   4.23883607,  93.67827715,  33.27486315,\n",
       "        93.67827715,  33.27486315,  33.27486315,  31.15544512,\n",
       "        31.15544512,  33.27486315,  93.67827715,  31.15544512,\n",
       "        31.15544512,  93.67827715,  93.67827715, -85.83643042,\n",
       "        93.67827715,  31.15544512,  93.67827715,  31.15544512,\n",
       "        93.67827715,  93.67827715,  93.67827715,  93.67827715,\n",
       "        33.27486315,  93.67827715,  93.67827715,  93.67827715,\n",
       "       -85.83643042,  31.15544512,  31.15544512,  31.15544512,\n",
       "        31.15544512,  31.15544512,  31.15544512,  33.27486315,\n",
       "        33.27486315,  93.67827715,  93.67827715, -85.83643042,\n",
       "        31.15544512,  31.15544512,  93.67827715,  93.67827715,\n",
       "        93.67827715,  31.15544512,  93.67827715,  31.15544512,\n",
       "        93.67827715,  31.15544512,  93.67827715,  93.67827715,\n",
       "        93.67827715,  93.67827715,  93.67827715,  33.27486315,\n",
       "        93.67827715,  93.67827715,  33.27486315,  31.15544512,\n",
       "        31.15544512,  93.67827715,  93.67827715, -85.83643042,\n",
       "         4.23883607,  93.67827715,  31.15544512,  93.67827715,\n",
       "        93.67827715,  33.27486315,  93.67827715,  93.67827715,\n",
       "        93.67827715,  31.15544512,  31.15544512,  33.27486315,\n",
       "        31.15544512,  31.15544512, -85.83643042,  31.15544512,\n",
       "        93.67827715,  33.27486315,  93.67827715,  93.67827715,\n",
       "        31.15544512,  33.27486315,  93.67827715,  33.27486315,\n",
       "        31.15544512,  31.15544512,  93.67827715,  31.15544512,\n",
       "        93.67827715, -85.83643042,  93.67827715,  93.67827715,\n",
       "        31.15544512,  33.27486315,  93.67827715,   4.23883607,\n",
       "        31.15544512,   4.23883607,  93.67827715,  33.27486315,\n",
       "        93.67827715,  33.27486315,  31.15544512,  31.15544512,\n",
       "        31.15544512,  93.67827715,  31.15544512,  33.27486315,\n",
       "        93.67827715,  93.67827715,  93.67827715,  33.27486315,\n",
       "       -85.83643042,  31.15544512,  93.67827715,  31.15544512,\n",
       "        31.15544512,  31.15544512,  31.15544512,  93.67827715,\n",
       "        33.27486315,  93.67827715,  33.27486315,  93.67827715,\n",
       "        93.67827715,  93.67827715, -85.83643042,  93.67827715,\n",
       "        33.27486315,  31.15544512,  93.67827715,  31.15544512,\n",
       "       -85.83643042,  33.27486315,  93.67827715,  93.67827715,\n",
       "        93.67827715,  31.15544512,  93.67827715,  31.15544512,\n",
       "        31.15544512,  31.15544512,  33.27486315,  93.67827715,\n",
       "        93.67827715,  93.67827715,  93.67827715,  31.15544512,\n",
       "        31.15544512,  31.15544512,  93.67827715, -85.83643042,\n",
       "        93.67827715,  93.67827715,  31.15544512,  93.67827715,\n",
       "        33.27486315,  93.67827715,  31.15544512,  93.67827715,\n",
       "        31.15544512,  33.27486315,  31.15544512, -85.83643042,\n",
       "        93.67827715,  93.67827715,  31.15544512,  93.67827715,\n",
       "        33.27486315,  93.67827715,  31.15544512,  93.67827715,\n",
       "        33.27486315,  93.67827715,  33.27486315,  31.15544512,\n",
       "        33.27486315,  93.67827715,  93.67827715,  93.67827715,\n",
       "        93.67827715,  33.27486315, -85.83643042,  31.15544512,\n",
       "       -85.83643042,  31.15544512,  31.15544512, -85.83643042,\n",
       "        93.67827715,  33.27486315,  33.27486315,  93.67827715,\n",
       "        33.27486315,  93.67827715,  31.15544512,  93.67827715,\n",
       "        93.67827715,  31.15544512,  93.67827715,  93.67827715,\n",
       "       -85.83643042,  93.67827715,  31.15544512,  33.27486315,\n",
       "        33.27486315,  93.67827715,  31.15544512, -85.83643042,\n",
       "        33.27486315,  93.67827715,  93.67827715,  33.27486315,\n",
       "        31.15544512,  93.67827715, -85.83643042,  33.27486315,\n",
       "        31.15544512,  93.67827715,  31.15544512,  93.67827715,\n",
       "        93.67827715,  31.15544512,  93.67827715,  93.67827715,\n",
       "        31.15544512,  93.67827715,  33.27486315,  31.15544512,\n",
       "        93.67827715,  31.15544512,  31.15544512, -85.83643042,\n",
       "        31.15544512,  31.15544512,  33.27486315,  33.27486315,\n",
       "        93.67827715,  31.15544512,  31.15544512,  93.67827715,\n",
       "        93.67827715,  93.67827715,  93.67827715,   4.23883607,\n",
       "        93.67827715, -85.83643042,  93.67827715,  93.67827715,\n",
       "        31.15544512,  31.15544512,  93.67827715,  31.15544512,\n",
       "        93.67827715,   4.23883607,  93.67827715,  33.27486315,\n",
       "        93.67827715,  33.27486315,  93.67827715,  93.67827715,\n",
       "        93.67827715,  93.67827715,  31.15544512, -85.83643042,\n",
       "       -85.83643042,  31.15544512,  31.15544512, -85.83643042,\n",
       "       -85.83643042,  31.15544512,  33.27486315,  93.67827715,\n",
       "        93.67827715,  31.15544512,  93.67827715,  93.67827715,\n",
       "        93.67827715,  31.15544512,  93.67827715,  93.67827715,\n",
       "        31.15544512,  93.67827715,  93.67827715,  31.15544512,\n",
       "        33.27486315,  93.67827715,  31.15544512,  31.15544512,\n",
       "        31.15544512,  93.67827715,  93.67827715, -85.83643042,\n",
       "        33.27486315,  93.67827715,  33.27486315,  31.15544512,\n",
       "        31.15544512,  93.67827715,  93.67827715,  93.67827715,\n",
       "        31.15544512,  31.15544512,  93.67827715,  31.15544512,\n",
       "        93.67827715,  93.67827715,  93.67827715,  93.67827715,\n",
       "        33.27486315,  33.27486315,  33.27486315,  93.67827715,\n",
       "        33.27486315,  93.67827715,   4.23883607,  31.15544512,\n",
       "        93.67827715,  93.67827715,  33.27486315,  31.15544512,\n",
       "        31.15544512,  31.15544512,  93.67827715,  93.67827715,\n",
       "        33.27486315,  31.15544512,  93.67827715,  31.15544512,\n",
       "        93.67827715,  33.27486315, -85.83643042,  93.67827715,\n",
       "        31.15544512,  93.67827715,  93.67827715,  93.67827715,\n",
       "        93.67827715,  93.67827715,  93.67827715,  93.67827715,\n",
       "        93.67827715,  31.15544512,  31.15544512,  93.67827715,\n",
       "        31.15544512,  31.15544512,  93.67827715,  93.67827715,\n",
       "        93.67827715,  93.67827715, -85.83643042,  93.67827715,\n",
       "        31.15544512,  93.67827715,  93.67827715,  93.67827715,\n",
       "        93.67827715,  93.67827715,   4.23883607,  93.67827715,\n",
       "        93.67827715,  93.67827715,   4.23883607,  93.67827715,\n",
       "        93.67827715,  93.67827715,  31.15544512,  93.67827715])"
      ]
     },
     "execution_count": 30,
     "metadata": {},
     "output_type": "execute_result"
    }
   ],
   "source": [
    "vt1"
   ]
  },
  {
   "cell_type": "code",
   "execution_count": 31,
   "id": "35983cea-4f3d-47cc-9ea0-70cb87ac6f5d",
   "metadata": {},
   "outputs": [],
   "source": [
    "points=points+vt1"
   ]
  },
  {
   "cell_type": "code",
   "execution_count": 32,
   "id": "416c3d84-7f00-433c-a32d-c72380eccb7f",
   "metadata": {},
   "outputs": [
    {
     "data": {
      "text/plain": [
       "array([ 31.74694946,  93.21738284,  32.20240845,  32.21855681,\n",
       "        93.96959529,  93.97692992,  31.79256763,  32.29938252,\n",
       "        93.15905507,  93.95225618,  93.48798941,  32.24723761,\n",
       "        93.5765029 ,  93.74789813,  31.72640804,  31.7801646 ,\n",
       "        92.83213561,  92.79444112,  32.25375906,  93.37101991,\n",
       "        32.06295001,  93.27299042,  32.16098682,  93.51017014,\n",
       "        32.10287929,  31.93854482,  92.85152523,  93.44895553,\n",
       "        93.68092007,  31.48683035,  93.54026205,  31.85150814,\n",
       "        93.53658058,  93.35503154,  93.29152733,  31.74904042,\n",
       "        31.86922836,  32.09481428,  31.5886022 ,  32.17603696,\n",
       "        31.54249615,  93.27444936,  31.76520667,  93.66855686,\n",
       "        31.27268153,  31.98683135,  31.556287  ,  93.74273063,\n",
       "        32.30337793,  93.24623304,  31.17525628,  31.43556694,\n",
       "       -83.90297618,  32.50054924,  32.24091591,  31.74320645,\n",
       "        93.85604752,  32.05404132,  93.29844716,  32.15667225,\n",
       "        93.11105188,  31.83870298,  32.29980908,  93.66236975,\n",
       "        93.97912019,  32.49489637,  32.013335  ,  32.56422146,\n",
       "         1.8539774 ,  32.2642651 ,  31.84210449,  93.84211129,\n",
       "        31.74249762,  31.79084296,  32.59540025,  32.32852737,\n",
       "        93.37890032,  31.3770905 ,  31.5743729 ,  32.66738974,\n",
       "        93.81018718,  31.57133942,  32.11560251,  93.97989232,\n",
       "        93.44420964,  31.46435858,  93.13989881,  93.74881383,\n",
       "        32.23686406,  32.01496538,  93.24293067,  31.56484956,\n",
       "        31.61139754,  93.01446638,  93.02411607,  93.54522267,\n",
       "        93.96764891,  32.04924317, -84.25249818,  93.49526704,\n",
       "        31.57531354,  93.56869847,  31.77448315,  93.0936183 ,\n",
       "        93.44575238,  31.70574007,  31.56069619,  31.62924373,\n",
       "         1.77571549,  93.4487107 ,  31.76130649,  92.95970552,\n",
       "        31.28806646,  93.50633522,  31.75664771,  31.94980508,\n",
       "        93.74071302,  31.52187728,  32.05148575,  31.77825391,\n",
       "        32.49239212,  31.67927673,  92.87935264,  32.35275504,\n",
       "        32.1781499 ,  93.05235726,  31.65850376, -84.07840401,\n",
       "        93.91275057,  93.5201427 ,  32.57826827,  93.02896605,\n",
       "        93.9721661 ,  93.93069837,  93.32046888, -83.0856483 ,\n",
       "        31.66417935,  32.00670937,  32.32327506,  32.06182833,\n",
       "       -83.98449147,  32.17479021,  31.87607671,  31.72616489,\n",
       "        31.85089883,  93.92935908,  93.92872966,  92.99861875,\n",
       "        32.15382558,  93.21787183,  93.67688167,  32.31064024,\n",
       "        32.05629226,  31.67313423,  93.43406285,  32.58920774,\n",
       "        31.38956473,  32.00213013,  93.92551597,  31.72520718,\n",
       "        31.51166233,   1.75255887,  93.09543205,  93.50480974,\n",
       "        32.10362739,  92.9921229 ,  32.46615113,  31.90352218,\n",
       "        31.60369032,  31.80409835,  93.39427906,  93.67147182,\n",
       "        93.37123753,  31.50395404,  32.25378566,  32.15186048,\n",
       "        93.09163074,  92.93846256,  93.36354279,  93.95114694,\n",
       "        93.9338937 ,  93.50442515,  31.85978675,  93.58711484,\n",
       "        31.88929396,   1.57287422,  93.962596  ,  93.23994052,\n",
       "        32.09822417,   1.85032459,  31.76734304,  32.18257137,\n",
       "        31.53990632,  93.90172923,  32.08739911,  93.07047156,\n",
       "       -84.14799922,  93.33544965,  31.4764811 ,  32.08862942,\n",
       "        93.19697644,  93.62539802,  93.02165001,  31.85284263,\n",
       "        31.45828408,  31.70882085,  93.27303416,  32.03283881,\n",
       "        93.74729714,  93.01562416,  31.91198641,  93.95691825,\n",
       "        93.7456328 ,  93.29326435,  93.57395504, -83.70089747,\n",
       "        93.54626419,  93.78009627,  32.24093547,  93.33673991,\n",
       "        93.48581229,  31.74998685,  31.60332251,  92.86724944,\n",
       "        93.58970928, -83.78110465,  93.01398208,  32.12310665,\n",
       "        92.93753754,  93.35961211,  93.63435453,  32.53396941,\n",
       "        93.46123284,  31.74612421,  32.02037559,  93.7163389 ,\n",
       "        31.6059844 ,  32.19236942,  32.08451435,  31.50625007,\n",
       "        93.62171683,  32.45075429,  31.98908088, -83.95872764,\n",
       "        31.43828148,  31.7825878 ,  31.82479754,  31.55139454,\n",
       "        32.13493092,  31.65713141,  93.60568461,  93.89229511,\n",
       "        93.3368125 ,  93.63214893,  92.76283794,  32.03051303,\n",
       "        93.25053899,  32.26282445,  31.96380066,  93.61613884,\n",
       "        93.07646961,  32.11030063,  92.92651234,  93.85738943,\n",
       "        93.1799213 ,  92.83397015,  93.49686394,  93.53920241,\n",
       "        93.43184918,  93.04424891,  32.48748984,  93.81477521,\n",
       "        92.95917482,  92.91132064,  93.2055365 ,  31.36202638,\n",
       "        32.18691777,  31.44218862,  31.66533766,  32.03601459,\n",
       "        92.79578047,  93.925245  , -84.06902065,  93.4524849 ,\n",
       "        32.52237468,  32.2508351 ,  31.87003401,  32.43609488,\n",
       "        31.69865223,  93.46651236,  31.89333807,  93.24682889,\n",
       "        93.47604732,  93.3557113 ,  93.79941442,  93.44832615,\n",
       "        32.3003574 ,  93.82388737,  93.67328025,  93.28856731,\n",
       "        93.59751447,  32.0255634 ,  31.31286937,  93.54084193,\n",
       "        31.50084527,  31.71219371,  93.5110024 ,  92.98302847,\n",
       "        32.41317746,  93.77345914,  32.04079427,  32.30980812,\n",
       "        93.23098604,  31.56886963,  93.77575627,  93.37109467,\n",
       "        93.77920201,  93.31150977,  93.06460015,  31.99738736,\n",
       "        32.29995818,  93.43524399,  32.20803712,  31.62282335,\n",
       "        93.05637233,  31.366018  ,  93.54855938,  31.57813623,\n",
       "        93.51459204,  93.15564033,  93.13201771, -84.19432168,\n",
       "        32.08393605, -84.2346161 , -83.99769096,  93.76777133,\n",
       "        31.81146584, -83.34655747,  93.00552387,  93.92757704,\n",
       "        32.31492721,  31.69267988,  32.16436813,  93.26822224,\n",
       "        31.47157216,  93.60199627,  93.00497209,  31.6822306 ,\n",
       "         1.73678872,  93.75503739,  93.6931022 ,  93.08287071,\n",
       "        92.87928805,  93.68765081,  93.12899904,  93.27188201,\n",
       "        93.31647707,  93.63471873,  32.01436042,  31.63994639,\n",
       "       -84.15708021,  32.35659319,  31.90832822,  93.92780093,\n",
       "        92.92959529,  93.20736644,  92.8620909 ,  92.77206288,\n",
       "        31.94752452,  32.03017769,   1.60499373,  93.21386098,\n",
       "        92.94354605,  93.78976212,  31.76651985,  31.96896383,\n",
       "        32.37269116,  93.67179956,  31.74118   ,  31.89702409,\n",
       "        93.15871062,   1.87437855,  31.61521755,  93.13244248,\n",
       "        93.3053828 ,  32.36380029,  32.12218957,  93.88673815,\n",
       "        31.66431433,  31.91823795,  93.77875177,  32.05128277,\n",
       "        31.91994219,  32.10749072,  32.26800668,  32.43179666,\n",
       "        32.37299054,  31.61799944,  31.67173174,  93.783981  ,\n",
       "        31.54765964,  93.05097529, -83.96337722,  93.91156993,\n",
       "        31.91079036, -84.12903819,  32.35221258,  31.81763658,\n",
       "        31.37759436, -83.9164917 ,  93.92955719, -84.01617844,\n",
       "        31.68458805,  93.17480206,  31.83048555,  93.11072919,\n",
       "        93.57632913,  31.14106842,  32.60128796,  93.6175947 ,\n",
       "        32.47329994,  31.9391981 ,  93.26055446,  32.06962507,\n",
       "        92.88696821,  31.55665979,  31.58210328,  31.9006078 ,\n",
       "        31.98779201,  93.68466326,  32.38506176,  93.10209348,\n",
       "        31.9844116 ,  93.65852488,  32.52274822, -83.99284695,\n",
       "        31.77174852,  93.71526025,  93.2119653 ,  93.39202272,\n",
       "        92.98075464,  93.46994689,  93.70553793,  32.05215062,\n",
       "        32.04438647, -83.65964536,  92.9269592 ,  92.82825583,\n",
       "        32.22481277,  93.4037044 ,  93.29996517,  93.30556077,\n",
       "        93.30717564,  32.0145447 ,  93.49042181,  92.79407118,\n",
       "        93.96068561,  31.90062014,  93.42698273,  93.34626675,\n",
       "        31.54286396,  31.66602466,  92.87311682,  31.60767362,\n",
       "        93.07919726,  93.70833032,  93.77617136, -84.10995337,\n",
       "        93.09430568,  32.62490079, -84.24078601,  92.97071891,\n",
       "        93.64825367,  93.25992605,  32.16371407,  31.83718385,\n",
       "        31.63753784,  32.09780013,  31.58290247,  32.06248087,\n",
       "        93.19314953,  32.45627424,  31.53137476,  32.26924433,\n",
       "        93.39733804,  31.50671341,  93.18272085,  32.48938595,\n",
       "        93.47434723,  93.93684669,  32.04014811,  93.4635509 ,\n",
       "        93.86061219,  93.44317905,  93.23941919,  32.29672532,\n",
       "        93.20240751,  93.39208551,  93.65206465,  32.56475087,\n",
       "        31.5552988 ,  93.74589927, -83.74303805,  93.961354  ,\n",
       "        31.71011272,  93.81264789,  32.42852799,  93.7925696 ,\n",
       "       -83.43132064,  31.76216801,  31.86428046,  93.16619295,\n",
       "        31.58884534,  32.25793549,  31.89422889,  93.47604357,\n",
       "        93.74951536,  32.11526548,  32.50890251,  93.33837381,\n",
       "        93.64820879,  31.57140298,  93.68364686,  93.83729772,\n",
       "        31.74640334, -83.67066397,  31.88690017,  93.52001164,\n",
       "        31.7938727 ,  93.42616202,  93.57651665,  31.61770286,\n",
       "         1.87310308,  31.78377696,  92.80821937,  93.60331437,\n",
       "       -83.69717945,  31.55212797,  31.73900979,  32.35831228,\n",
       "        32.25338515,  93.97279928,  93.40206772,  31.75756784,\n",
       "        32.45063414,  93.93069991,  93.71007018,  32.09208039,\n",
       "        32.282729  ,  93.50360607,  31.98476481,  93.10429389,\n",
       "        31.58276464,  93.23858483, -83.64541513,   1.97971741,\n",
       "        31.56409443,  93.26833933,  31.94026818, -83.53911753,\n",
       "        31.78056466,  93.06232799, -84.29129264,  32.27169123,\n",
       "        32.07689846,  93.78548146,  31.84706249,  31.92539672,\n",
       "        32.26462141,  93.56531021,  31.93674471,  93.84229363,\n",
       "        92.87147339,  93.87992612,  93.14059898,  31.4738603 ,\n",
       "        93.53047618,  93.26507872,  31.62881653,  93.50104282,\n",
       "        31.62090812,  32.3591184 ,  31.6878286 ,  93.34932681,\n",
       "        93.16026046,  32.12733074,  31.99653609,  32.44132714,\n",
       "        93.84377228,  32.19472206,  31.56985286,  32.09404636,\n",
       "        93.20629351,  93.52517992,  31.51616432,  93.4719437 ,\n",
       "        93.72491608,  93.75159028,  32.48586645,  31.56606266,\n",
       "        31.65926483,  92.89139707,  93.48946472,  92.86719277,\n",
       "        93.33892485,  93.34194122,  31.92664206,  31.96005724,\n",
       "        93.5697544 ,  32.57611977,  32.06114175,  93.42049946,\n",
       "        31.61594359,  31.78008906,  31.68583177,  93.95771981,\n",
       "        31.6678986 ,  32.4262866 ,  93.61232068,  32.43256696,\n",
       "       -84.03443142,  93.5970836 ,  32.27710283,  32.04710903,\n",
       "        93.59273601,  32.22074549,  93.75763427,  93.32922309,\n",
       "       -84.22726147,   1.79662747,  93.85214268,  32.20599007,\n",
       "        93.79897382,  31.93728707,  31.92220371,  31.89899395,\n",
       "        32.54375084,  32.3018734 ,  93.10897276,  31.70790018,\n",
       "        31.76147009,  93.30442122,  92.92531626, -83.43549955,\n",
       "        93.19445784,  31.69425225,  93.61243403,  31.92316554,\n",
       "        93.26592732,  93.86268137,  93.3151265 ,  93.62015434,\n",
       "        31.87128065,  92.97655286,  93.70857704,  93.64159042,\n",
       "       -83.85495168,  31.95583286,  32.43523558,  32.01625342,\n",
       "        31.63965601,  32.2742485 ,  31.49100773,  31.71171946,\n",
       "        31.98516471,  93.83777581,  93.52685665, -84.14431255,\n",
       "        32.42481765,  31.99482738,  93.14268238,  92.81258663,\n",
       "        93.53183497,  32.55168526,  92.94771098,  31.80077994,\n",
       "        93.42324742,  31.57024785,  93.18962337,  93.2129005 ,\n",
       "        93.25421607,  93.42738194,  93.80749863,  32.03036871,\n",
       "        93.86038916,  92.84599167,  32.04065702,  32.00005306,\n",
       "        32.07468394,  93.1591714 ,  93.24517756, -84.07344598,\n",
       "         1.64337391,  93.48095622,  31.57913535,  92.7800359 ,\n",
       "        93.75220576,  31.55404196,  92.89472859,  92.84029914,\n",
       "        93.54581928,  32.47637716,  31.63943976,  32.25178861,\n",
       "        31.74928818,  32.16114246, -84.23286234,  31.81112207,\n",
       "        92.76820793,  31.21901869,  93.44619913,  93.22809947,\n",
       "        32.33602314,  32.18904009,  93.20163459,  31.70458263,\n",
       "        32.37159925,  32.45000485,  93.89930371,  31.93982026,\n",
       "        93.61848539, -83.78347409,  93.94222017,  93.12643097,\n",
       "        31.96397516,  31.31320467,  93.22563125,   1.36364275,\n",
       "        32.45630149,   1.93374005,  93.8564179 ,  32.32203422,\n",
       "        93.12828932,  32.25929243,  31.56667134,  31.94871624,\n",
       "        32.58081722,  93.24181142,  32.18565093,  31.90134281,\n",
       "        93.42811167,  93.50510619,  93.51403807,  31.35197956,\n",
       "       -83.89135312,  31.71696214,  92.93114898,  31.64750485,\n",
       "        31.77881598,  31.71722487,  32.02577113,  93.25105059,\n",
       "        31.52152033,  93.88183339,  31.74605527,  93.70412714,\n",
       "        93.25600318,  93.69846045, -83.99062716,  93.28357786,\n",
       "        31.34280855,  31.56470612,  93.3321508 ,  31.52007308,\n",
       "       -89.1969937 ,  32.16766185,  93.67347316,  92.94359005,\n",
       "        93.21519772,  31.60296763,  92.85791987,  31.69323945,\n",
       "        31.88976298,  31.46863399,  32.02959263,  93.93348016,\n",
       "        93.60875219,  93.75775124,  93.84671636,  31.59344164,\n",
       "        31.95624463,  31.7073957 ,  93.39170225, -84.28155508,\n",
       "        93.63540612,  93.65675731,  32.6262952 ,  93.40358924,\n",
       "        31.79380366,  93.63260543,  31.53719665,  93.57133995,\n",
       "        32.13484224,  31.2516245 ,  31.47350696, -84.03646348,\n",
       "        93.45471492,  93.15758916,  32.39983191,  93.53298532,\n",
       "        32.11608284,  93.96483889,  31.93562335,  93.65089742,\n",
       "        31.66171778,  92.90880247,  32.2348955 ,  31.61549961,\n",
       "        32.34514993,  93.67982401,  93.44232   ,  93.77258359,\n",
       "        93.28311516,  31.58427011, -83.65242176,  31.57696799,\n",
       "       -84.24750885,  31.54161303,  31.65703609, -83.5594205 ,\n",
       "        93.44484786,  31.97915028,  31.26766083,  93.79885717,\n",
       "        32.21225547,  93.45830226,  32.62945708,  93.1795127 ,\n",
       "        93.20079369,  32.43978015,  93.36723495,  93.82578932,\n",
       "       -84.29000276,  93.93371076,  31.50571249,  32.34861163,\n",
       "        32.27576289,  93.14423755,  32.35675926, -84.16324044,\n",
       "        31.90216672,  93.76507738,  93.43000667,  31.98556652,\n",
       "        31.72751196,  93.79417704, -84.07297044,  32.1609618 ,\n",
       "        31.65323649,  92.88377308,  32.00803181,  93.91456948,\n",
       "        93.0785504 ,  31.82943157,  93.50597406,  92.85975861,\n",
       "        31.83913809,  93.15603385,  32.09079627,  32.43299763,\n",
       "        93.95656   ,  31.55953944,  32.10177071, -83.92625377,\n",
       "        32.25256193,  31.50806223,  31.65125362,  32.30488757,\n",
       "        92.84593374,  32.10180224,  31.93850391,  93.12415843,\n",
       "        93.97013364,  93.89476417,  93.03113323,   1.32275879,\n",
       "        93.05092548, -84.27803235,  93.04906913,  92.88493818,\n",
       "        31.71658481,  31.76835297,  93.0720985 ,  31.5331448 ,\n",
       "        92.82101678,   1.78129633,  93.02425738,  31.85071603,\n",
       "        93.14304593,  32.31505562,  93.91379468,  93.34358688,\n",
       "        93.68812048,  93.37218135,  31.48201813, -84.20576811,\n",
       "       -84.29934459,  31.74195562,  32.18549451, -84.00892522,\n",
       "       -84.20010938,  31.55283452,  31.96665951,  93.27234567,\n",
       "        93.65290265,  32.54241875,  93.83343736,  92.91118333,\n",
       "        93.30377655,  32.35299971,  93.81990685,  93.10535376,\n",
       "        32.07617529,  92.96160001,  93.029473  ,  31.61442372,\n",
       "        31.92793303,  92.98261959,  32.11578409,  32.18265663,\n",
       "        31.85226467,  92.95171864,  93.67439272, -84.26577262,\n",
       "        32.02194523,  93.43669331,  32.08235496,  31.95138435,\n",
       "        31.47489435,  93.19725073,  92.91058386,  92.87618456,\n",
       "        32.28260099,  32.61516326,  92.95961454,  31.8125756 ,\n",
       "        93.00035546,  93.77166674,  93.60296488,  93.4870176 ,\n",
       "        32.19293321,  31.49803505,  32.35443572,  93.49073313,\n",
       "        31.23174695,  93.75126217,   0.88747481,  31.80835982,\n",
       "        93.3730369 ,  93.5165954 ,  31.82489073,  31.85923286,\n",
       "        31.89478587,  31.74454536,  93.15764927,  93.63030161,\n",
       "        32.13034559,  31.76692264,  92.84772378,  31.55917345,\n",
       "        92.95821103,  31.91617661, -84.21130079,  93.32435066,\n",
       "        31.64356049,  93.90289875,  93.9119739 ,  93.50971386,\n",
       "        93.67042952,  93.30286492,  93.67147612,  93.86408889,\n",
       "        93.62424962,  32.50238915,  31.83857103,  93.16085051,\n",
       "        31.68505032,  32.30176122,  92.89620754,  93.62441751,\n",
       "        93.10436252,  93.15722045, -84.30725916,  92.80439977,\n",
       "        32.43985961,  93.40793437,  92.9809212 ,  93.27911329,\n",
       "        92.82851352,  93.82208584,   2.06025384,  93.85532255,\n",
       "        93.65670142,  92.78316838,   1.8375839 ,  93.05844666,\n",
       "        93.69836106,  93.0235425 ,  31.94940938,  93.78060319])"
      ]
     },
     "execution_count": 32,
     "metadata": {},
     "output_type": "execute_result"
    }
   ],
   "source": [
    "points"
   ]
  },
  {
   "cell_type": "code",
   "execution_count": null,
   "id": "cc35bda3-1798-4f89-8317-93ab403bade7",
   "metadata": {},
   "outputs": [],
   "source": []
  }
 ],
 "metadata": {
  "kernelspec": {
   "display_name": "Python [conda env:base] *",
   "language": "python",
   "name": "conda-base-py"
  },
  "language_info": {
   "codemirror_mode": {
    "name": "ipython",
    "version": 3
   },
   "file_extension": ".py",
   "mimetype": "text/x-python",
   "name": "python",
   "nbconvert_exporter": "python",
   "pygments_lexer": "ipython3",
   "version": "3.12.7"
  }
 },
 "nbformat": 4,
 "nbformat_minor": 5
}
