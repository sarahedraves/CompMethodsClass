{
 "cells": [
  {
   "cell_type": "code",
   "execution_count": 2,
   "id": "ecfbea57-f252-4fcd-a6ee-d6c8fbd09977",
   "metadata": {},
   "outputs": [],
   "source": [
    "import numpy as np\n",
    "import pandas as pd"
   ]
  },
  {
   "cell_type": "code",
   "execution_count": 3,
   "id": "e2b9e7a1-c0db-4521-b8fd-c8b80a015811",
   "metadata": {},
   "outputs": [],
   "source": [
    "f=open('birthdates.txt','r')"
   ]
  },
  {
   "cell_type": "code",
   "execution_count": 4,
   "id": "68ec2802-beba-4e15-a2cd-87afa11c0cc0",
   "metadata": {},
   "outputs": [],
   "source": [
    "file=f.read()"
   ]
  },
  {
   "cell_type": "code",
   "execution_count": 5,
   "id": "02533cb2-244d-43f5-abcc-3efd4c7c45c7",
   "metadata": {},
   "outputs": [
    {
     "data": {
      "text/plain": [
       "'day, month, year, name\\n10, 12, 1997, Sarah\\n4, 11, 1999, Katherine\\n28, 4, 1964, Rich\\n24, 11, 1963, Martha\\n22, 7, 1998, Scott'"
      ]
     },
     "execution_count": 5,
     "metadata": {},
     "output_type": "execute_result"
    }
   ],
   "source": [
    "file"
   ]
  },
  {
   "cell_type": "code",
   "execution_count": 6,
   "id": "d1986081-09ff-4bc0-9834-d20615b8414d",
   "metadata": {},
   "outputs": [],
   "source": [
    "header,_,rows=file.partition('\\n')"
   ]
  },
  {
   "cell_type": "code",
   "execution_count": 7,
   "id": "b2853239-0e0b-4c2d-a139-28156470ab39",
   "metadata": {},
   "outputs": [
    {
     "data": {
      "text/plain": [
       "'day, month, year, name'"
      ]
     },
     "execution_count": 7,
     "metadata": {},
     "output_type": "execute_result"
    }
   ],
   "source": [
    "header"
   ]
  },
  {
   "cell_type": "code",
   "execution_count": 8,
   "id": "aef833cb-e2f7-475a-9025-430d2cecd62c",
   "metadata": {},
   "outputs": [
    {
     "data": {
      "text/plain": [
       "'10, 12, 1997, Sarah\\n4, 11, 1999, Katherine\\n28, 4, 1964, Rich\\n24, 11, 1963, Martha\\n22, 7, 1998, Scott'"
      ]
     },
     "execution_count": 8,
     "metadata": {},
     "output_type": "execute_result"
    }
   ],
   "source": [
    "rows"
   ]
  },
  {
   "cell_type": "code",
   "execution_count": 9,
   "id": "837874fb-4de4-4e82-884b-5759e484be1b",
   "metadata": {},
   "outputs": [],
   "source": [
    "numcolumns=header.count(',')+1"
   ]
  },
  {
   "cell_type": "code",
   "execution_count": 10,
   "id": "3db3745a-ad93-4f3c-b658-89fd8de6e3cc",
   "metadata": {},
   "outputs": [],
   "source": [
    "columnnames=np.empty(numcolumns,dtype=np.dtypes.StrDType)\n",
    "remainingheader=header\n",
    "for i in range(numcolumns):\n",
    "    current,_,remainingheader=remainingheader.partition(', ')\n",
    "    columnnames[i]=current"
   ]
  },
  {
   "cell_type": "code",
   "execution_count": 11,
   "id": "e0555548-dac0-4aac-8675-5f653b9bc7bd",
   "metadata": {},
   "outputs": [
    {
     "data": {
      "text/plain": [
       "array(['day', 'month', 'year', 'name'], dtype=object)"
      ]
     },
     "execution_count": 11,
     "metadata": {},
     "output_type": "execute_result"
    }
   ],
   "source": [
    "columnnames"
   ]
  },
  {
   "cell_type": "code",
   "execution_count": 12,
   "id": "425466c9-f371-4308-b896-de1fbb0cb79a",
   "metadata": {},
   "outputs": [],
   "source": [
    "numrows=rows.count('\\n')+1"
   ]
  },
  {
   "cell_type": "code",
   "execution_count": 13,
   "id": "90abd171-b382-48d7-9c75-d97273f5cad4",
   "metadata": {},
   "outputs": [],
   "source": [
    "data=np.empty((numrows,numcolumns),dtype=np.dtypes.StrDType)"
   ]
  },
  {
   "cell_type": "code",
   "execution_count": 14,
   "id": "22fbc5a6-bfcc-416f-a162-5e70ed756904",
   "metadata": {},
   "outputs": [],
   "source": [
    "table=pd.DataFrame(data,columns=columnnames)"
   ]
  },
  {
   "cell_type": "code",
   "execution_count": 15,
   "id": "04541a55-c3f3-4721-b568-e0dc839a7e90",
   "metadata": {},
   "outputs": [
    {
     "data": {
      "text/html": [
       "<div>\n",
       "<style scoped>\n",
       "    .dataframe tbody tr th:only-of-type {\n",
       "        vertical-align: middle;\n",
       "    }\n",
       "\n",
       "    .dataframe tbody tr th {\n",
       "        vertical-align: top;\n",
       "    }\n",
       "\n",
       "    .dataframe thead th {\n",
       "        text-align: right;\n",
       "    }\n",
       "</style>\n",
       "<table border=\"1\" class=\"dataframe\">\n",
       "  <thead>\n",
       "    <tr style=\"text-align: right;\">\n",
       "      <th></th>\n",
       "      <th>day</th>\n",
       "      <th>month</th>\n",
       "      <th>year</th>\n",
       "      <th>name</th>\n",
       "    </tr>\n",
       "  </thead>\n",
       "  <tbody>\n",
       "    <tr>\n",
       "      <th>0</th>\n",
       "      <td>None</td>\n",
       "      <td>None</td>\n",
       "      <td>None</td>\n",
       "      <td>None</td>\n",
       "    </tr>\n",
       "    <tr>\n",
       "      <th>1</th>\n",
       "      <td>None</td>\n",
       "      <td>None</td>\n",
       "      <td>None</td>\n",
       "      <td>None</td>\n",
       "    </tr>\n",
       "    <tr>\n",
       "      <th>2</th>\n",
       "      <td>None</td>\n",
       "      <td>None</td>\n",
       "      <td>None</td>\n",
       "      <td>None</td>\n",
       "    </tr>\n",
       "    <tr>\n",
       "      <th>3</th>\n",
       "      <td>None</td>\n",
       "      <td>None</td>\n",
       "      <td>None</td>\n",
       "      <td>None</td>\n",
       "    </tr>\n",
       "    <tr>\n",
       "      <th>4</th>\n",
       "      <td>None</td>\n",
       "      <td>None</td>\n",
       "      <td>None</td>\n",
       "      <td>None</td>\n",
       "    </tr>\n",
       "  </tbody>\n",
       "</table>\n",
       "</div>"
      ],
      "text/plain": [
       "    day month  year  name\n",
       "0  None  None  None  None\n",
       "1  None  None  None  None\n",
       "2  None  None  None  None\n",
       "3  None  None  None  None\n",
       "4  None  None  None  None"
      ]
     },
     "execution_count": 15,
     "metadata": {},
     "output_type": "execute_result"
    }
   ],
   "source": [
    "table"
   ]
  },
  {
   "cell_type": "code",
   "execution_count": 16,
   "id": "256701dd-e0ca-4a00-9c8b-751a9881da12",
   "metadata": {},
   "outputs": [],
   "source": [
    "remainingrows=rows\n",
    "for i in range(numrows):\n",
    "    currentrow,_,remainingrows=remainingrows.partition('\\n')\n",
    "    for j in range(numcolumns):\n",
    "        currentelement,_,currentrow=currentrow.partition(', ')\n",
    "        table.iloc[i, j]=currentelement"
   ]
  },
  {
   "cell_type": "code",
   "execution_count": 17,
   "id": "f31758c6-59e3-47ed-9f7a-e131825c9310",
   "metadata": {},
   "outputs": [
    {
     "data": {
      "text/html": [
       "<div>\n",
       "<style scoped>\n",
       "    .dataframe tbody tr th:only-of-type {\n",
       "        vertical-align: middle;\n",
       "    }\n",
       "\n",
       "    .dataframe tbody tr th {\n",
       "        vertical-align: top;\n",
       "    }\n",
       "\n",
       "    .dataframe thead th {\n",
       "        text-align: right;\n",
       "    }\n",
       "</style>\n",
       "<table border=\"1\" class=\"dataframe\">\n",
       "  <thead>\n",
       "    <tr style=\"text-align: right;\">\n",
       "      <th></th>\n",
       "      <th>day</th>\n",
       "      <th>month</th>\n",
       "      <th>year</th>\n",
       "      <th>name</th>\n",
       "    </tr>\n",
       "  </thead>\n",
       "  <tbody>\n",
       "    <tr>\n",
       "      <th>0</th>\n",
       "      <td>10</td>\n",
       "      <td>12</td>\n",
       "      <td>1997</td>\n",
       "      <td>Sarah</td>\n",
       "    </tr>\n",
       "    <tr>\n",
       "      <th>1</th>\n",
       "      <td>4</td>\n",
       "      <td>11</td>\n",
       "      <td>1999</td>\n",
       "      <td>Katherine</td>\n",
       "    </tr>\n",
       "    <tr>\n",
       "      <th>2</th>\n",
       "      <td>28</td>\n",
       "      <td>4</td>\n",
       "      <td>1964</td>\n",
       "      <td>Rich</td>\n",
       "    </tr>\n",
       "    <tr>\n",
       "      <th>3</th>\n",
       "      <td>24</td>\n",
       "      <td>11</td>\n",
       "      <td>1963</td>\n",
       "      <td>Martha</td>\n",
       "    </tr>\n",
       "    <tr>\n",
       "      <th>4</th>\n",
       "      <td>22</td>\n",
       "      <td>7</td>\n",
       "      <td>1998</td>\n",
       "      <td>Scott</td>\n",
       "    </tr>\n",
       "  </tbody>\n",
       "</table>\n",
       "</div>"
      ],
      "text/plain": [
       "  day month  year       name\n",
       "0  10    12  1997      Sarah\n",
       "1   4    11  1999  Katherine\n",
       "2  28     4  1964       Rich\n",
       "3  24    11  1963     Martha\n",
       "4  22     7  1998      Scott"
      ]
     },
     "execution_count": 17,
     "metadata": {},
     "output_type": "execute_result"
    }
   ],
   "source": [
    "table"
   ]
  },
  {
   "cell_type": "code",
   "execution_count": null,
   "id": "bfb8f15e-0264-4982-8559-d3192d44d4d5",
   "metadata": {},
   "outputs": [],
   "source": []
  }
 ],
 "metadata": {
  "kernelspec": {
   "display_name": "Python [conda env:base] *",
   "language": "python",
   "name": "conda-base-py"
  },
  "language_info": {
   "codemirror_mode": {
    "name": "ipython",
    "version": 3
   },
   "file_extension": ".py",
   "mimetype": "text/x-python",
   "name": "python",
   "nbconvert_exporter": "python",
   "pygments_lexer": "ipython3",
   "version": "3.12.7"
  }
 },
 "nbformat": 4,
 "nbformat_minor": 5
}
